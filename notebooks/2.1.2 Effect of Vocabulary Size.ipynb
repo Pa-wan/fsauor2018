{
 "cells": [
  {
   "cell_type": "code",
   "execution_count": 1,
   "metadata": {},
   "outputs": [],
   "source": [
    "%load_ext autoreload\n",
    "%autoreload 2\n",
    "%matplotlib inline\n",
    "%config InlineBackend.figure_format = 'retina'\n",
    "\n",
    "import pandas as pd\n",
    "import numpy as np\n",
    "import matplotlib.pyplot as plt\n",
    "\n",
    "import logging\n",
    "\n",
    "logging.getLogger('jieba').setLevel(logging.WARN)\n",
    "logging.getLogger('fgclassifier').setLevel(logging.INFO)"
   ]
  },
  {
   "cell_type": "code",
   "execution_count": 2,
   "metadata": {},
   "outputs": [],
   "source": [
    "import os\n",
    "\n",
    "os.chdir('..')"
   ]
  },
  {
   "cell_type": "code",
   "execution_count": 5,
   "metadata": {},
   "outputs": [
    {
     "data": {
      "text/plain": [
       "(10000,)"
      ]
     },
     "execution_count": 5,
     "metadata": {},
     "output_type": "execute_result"
    }
   ],
   "source": [
    "import config\n",
    "from collections import defaultdict\n",
    "from sklearn.model_selection import train_test_split\n",
    "\n",
    "from fgclassifier.utils import read_data, get_dataset\n",
    "\n",
    "# The English data set is the first 10000 reviews,\n",
    "# we make it consistent here\n",
    "X_train, y_train = read_data(get_dataset('train')[:10000])\n",
    "X_train.shape"
   ]
  },
  {
   "cell_type": "code",
   "execution_count": null,
   "metadata": {},
   "outputs": [],
   "source": [
    "from IPython.display import clear_output\n",
    "\n",
    "from sklearn.pipeline import Pipeline\n",
    "from sklearn.model_selection import GridSearchCV\n",
    "from sklearn.externals import joblib\n",
    "\n",
    "from fgclassifier.baseline import Baseline, MultiOutputClassifier\n",
    "from fgclassifier.features import Count, Tfidf, SVD, SparseToDense\n",
    "from fgclassifier.classifiers import ComplementNB\n",
    "\n",
    "pipeline = Pipeline([\n",
    "    ('vect', Count(min_df=0.02, max_df=0.99, ngram_range=(1, 5))),\n",
    "    ('Logistic', ComplementNB()),\n",
    "], memory='data/pipeline_cache')\n",
    "\n",
    "clf = MultiOutputClassifier(LinearDiscriminantAnalysis())\n",
    "parameters = {\n",
    "    'vect__min_df': [0.05, 0.1, 0.2, 0.3, 0.5],\n",
    "}\n",
    "\n",
    "with joblib.parallel_backend('threading', n_jobs=1):\n",
    "    grid_search = GridSearchCV(\n",
    "        clf, parameters, cv=4,\n",
    "        verbose=True, return_train_score=True\n",
    "    )\n",
    "    grid_search.fit(Xt, y_train)\n",
    "    \n",
    "clear_output()"
   ]
  }
 ],
 "metadata": {
  "kernelspec": {
   "display_name": "Python 3",
   "language": "python",
   "name": "python3"
  },
  "language_info": {
   "codemirror_mode": {
    "name": "ipython",
    "version": 3
   },
   "file_extension": ".py",
   "mimetype": "text/x-python",
   "name": "python",
   "nbconvert_exporter": "python",
   "pygments_lexer": "ipython3",
   "version": "3.6.5"
  }
 },
 "nbformat": 4,
 "nbformat_minor": 2
}
