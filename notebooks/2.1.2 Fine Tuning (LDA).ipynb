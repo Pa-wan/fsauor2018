{
 "cells": [
  {
   "cell_type": "code",
   "execution_count": 1,
   "metadata": {},
   "outputs": [],
   "source": [
    "%load_ext autoreload\n",
    "%autoreload 2\n",
    "%matplotlib inline\n",
    "%config InlineBackend.figure_format = 'retina'\n",
    "\n",
    "import pandas as pd\n",
    "import numpy as np\n",
    "import matplotlib.pyplot as plt\n",
    "\n",
    "import logging\n",
    "\n",
    "logging.getLogger('jieba').setLevel(logging.WARN)\n",
    "logging.getLogger('fgclassifier').setLevel(logging.INFO)\n",
    "logging.getLogger('fgclassifier.features').setLevel(logging.INFO)"
   ]
  },
  {
   "cell_type": "code",
   "execution_count": 2,
   "metadata": {},
   "outputs": [],
   "source": [
    "import os\n",
    "\n",
    "os.chdir('..')"
   ]
  },
  {
   "cell_type": "code",
   "execution_count": 3,
   "metadata": {},
   "outputs": [
    {
     "name": "stderr",
     "output_type": "stream",
     "text": [
      "2018-12-04 16:04:08,953 [INFO] Reading /opt/storage/english_train.csv..\n"
     ]
    },
    {
     "data": {
      "text/plain": [
       "(8000,)"
      ]
     },
     "execution_count": 3,
     "metadata": {},
     "output_type": "execute_result"
    }
   ],
   "source": [
    "from fgclassifier.utils import read_data, get_dataset\n",
    "\n",
    "X_train, y_train = read_data(get_dataset('train_en'), flavor=None)\n",
    "X_train.shape"
   ]
  },
  {
   "cell_type": "markdown",
   "metadata": {},
   "source": [
    "Exam the usage of np.linspace/logspace"
   ]
  },
  {
   "cell_type": "code",
   "execution_count": 4,
   "metadata": {},
   "outputs": [
    {
     "data": {
      "text/plain": [
       "array([ 100.,  200.,  300.,  400.,  500.,  600.,  700.,  800.,  900.,\n",
       "       1000.])"
      ]
     },
     "execution_count": 4,
     "metadata": {},
     "output_type": "execute_result"
    }
   ],
   "source": [
    "np.linspace(100, 1000, 10)"
   ]
  },
  {
   "cell_type": "code",
   "execution_count": 5,
   "metadata": {},
   "outputs": [
    {
     "data": {
      "text/plain": [
       "array([1.e-04, 1.e-03, 1.e-02, 1.e-01, 1.e+00, 1.e+01, 1.e+02, 1.e+03,\n",
       "       1.e+04])"
      ]
     },
     "execution_count": 5,
     "metadata": {},
     "output_type": "execute_result"
    }
   ],
   "source": [
    "np.logspace(-4, 4, 9)"
   ]
  },
  {
   "cell_type": "code",
   "execution_count": 6,
   "metadata": {},
   "outputs": [
    {
     "data": {
      "text/plain": [
       "array([0. , 0.1, 0.2, 0.3, 0.4, 0.5, 0.6, 0.7, 0.8, 0.9, 1. ])"
      ]
     },
     "execution_count": 6,
     "metadata": {},
     "output_type": "execute_result"
    }
   ],
   "source": [
    "np.linspace(0, 1, 11)"
   ]
  },
  {
   "cell_type": "markdown",
   "metadata": {},
   "source": [
    "Build the features"
   ]
  },
  {
   "cell_type": "code",
   "execution_count": 7,
   "metadata": {},
   "outputs": [
    {
     "name": "stderr",
     "output_type": "stream",
     "text": [
      "2018-12-04 16:04:44,306 [INFO] 'pattern' package not found; tag filters are not available for English\n",
      "2018-12-04 16:05:07,442 [INFO] Fit & Transform TF-IDF...\n"
     ]
    }
   ],
   "source": [
    "from sklearn.pipeline import Pipeline\n",
    "from fgclassifier.features import Count, Tfidf\n",
    "\n",
    "pipeline = Pipeline([\n",
    "    ('vect', Count(min_df=0.02, max_df=0.99, ngram_range=(1, 6))),\n",
    "    ('tfidf', Tfidf()),\n",
    "], memory='data/pipeline_cache')\n",
    "\n",
    "Xt = pipeline.fit_transform(X_train)"
   ]
  },
  {
   "cell_type": "code",
   "execution_count": 11,
   "metadata": {},
   "outputs": [
    {
     "name": "stdout",
     "output_type": "stream",
     "text": [
      "Original data dimension:  2612\n"
     ]
    }
   ],
   "source": [
    "print('Original data dimension: ',\n",
    "      len(pipeline.named_steps.tfidf.idf_))"
   ]
  },
  {
   "cell_type": "markdown",
   "metadata": {},
   "source": [
    "## Optimize classifier "
   ]
  },
  {
   "cell_type": "markdown",
   "metadata": {},
   "source": [
    "We use TruncatedSVD for dimension reduction, then pass the reduced dataset\n",
    "to LDA. This is more efficient as this way we can handle sparse matrix whereas\n",
    "LDA requires dense matrix input."
   ]
  },
  {
   "cell_type": "code",
   "execution_count": null,
   "metadata": {
    "scrolled": false
   },
   "outputs": [
    {
     "name": "stdout",
     "output_type": "stream",
     "text": [
      "Fitting 5 folds for each of 10 candidates, totalling 50 fits\n"
     ]
    },
    {
     "name": "stderr",
     "output_type": "stream",
     "text": [
      "[Parallel(n_jobs=3)]: Using backend ThreadingBackend with 3 concurrent workers.\n",
      "/Users/jesse/anaconda3/envs/idp/lib/python3.6/site-packages/sklearn/metrics/classification.py:1143: UndefinedMetricWarning: F-score is ill-defined and being set to 0.0 in labels with no predicted samples.\n",
      "  'precision', 'predicted', average, warn_for)\n",
      "/Users/jesse/anaconda3/envs/idp/lib/python3.6/site-packages/sklearn/metrics/classification.py:1143: UndefinedMetricWarning: F-score is ill-defined and being set to 0.0 in labels with no predicted samples.\n",
      "  'precision', 'predicted', average, warn_for)\n",
      "2018-12-04 16:10:06,440 [INFO]  F1 Score: 0.37129504517796275\n",
      "/Users/jesse/anaconda3/envs/idp/lib/python3.6/site-packages/sklearn/metrics/classification.py:1143: UndefinedMetricWarning: F-score is ill-defined and being set to 0.0 in labels with no predicted samples.\n",
      "  'precision', 'predicted', average, warn_for)\n",
      "2018-12-04 16:10:06,515 [INFO]  F1 Score: 0.382266396282607\n",
      "/Users/jesse/anaconda3/envs/idp/lib/python3.6/site-packages/sklearn/metrics/classification.py:1143: UndefinedMetricWarning: F-score is ill-defined and being set to 0.0 in labels with no predicted samples.\n",
      "  'precision', 'predicted', average, warn_for)\n",
      "2018-12-04 16:10:06,779 [INFO]  F1 Score: 0.3723449020129853\n",
      "2018-12-04 16:10:06,787 [INFO]  F1 Score: 0.41948139230218456\n",
      "2018-12-04 16:10:06,815 [INFO]  F1 Score: 0.42007612453371956\n",
      "2018-12-04 16:10:07,019 [INFO]  F1 Score: 0.4160763902226594\n",
      "/Users/jesse/anaconda3/envs/idp/lib/python3.6/site-packages/sklearn/metrics/classification.py:1143: UndefinedMetricWarning: F-score is ill-defined and being set to 0.0 in labels with no predicted samples.\n",
      "  'precision', 'predicted', average, warn_for)\n",
      "/Users/jesse/anaconda3/envs/idp/lib/python3.6/site-packages/sklearn/metrics/classification.py:1143: UndefinedMetricWarning: F-score is ill-defined and being set to 0.0 in labels with no predicted samples.\n",
      "  'precision', 'predicted', average, warn_for)\n",
      "/Users/jesse/anaconda3/envs/idp/lib/python3.6/site-packages/sklearn/metrics/classification.py:1143: UndefinedMetricWarning: F-score is ill-defined and being set to 0.0 in labels with no predicted samples.\n",
      "  'precision', 'predicted', average, warn_for)\n",
      "2018-12-04 16:10:12,459 [INFO]  F1 Score: 0.3806552386446982\n",
      "/Users/jesse/anaconda3/envs/idp/lib/python3.6/site-packages/sklearn/metrics/classification.py:1143: UndefinedMetricWarning: F-score is ill-defined and being set to 0.0 in labels with no predicted samples.\n",
      "  'precision', 'predicted', average, warn_for)\n",
      "2018-12-04 16:10:12,530 [INFO]  F1 Score: 0.3785826356210036\n",
      "/Users/jesse/anaconda3/envs/idp/lib/python3.6/site-packages/sklearn/metrics/classification.py:1143: UndefinedMetricWarning: F-score is ill-defined and being set to 0.0 in labels with no predicted samples.\n",
      "  'precision', 'predicted', average, warn_for)\n",
      "2018-12-04 16:10:12,742 [INFO]  F1 Score: 0.41504275024799364\n",
      "2018-12-04 16:10:12,855 [INFO]  F1 Score: 0.4175296091532246\n",
      "2018-12-04 16:10:35,839 [INFO]  F1 Score: 0.4333577622523066\n",
      "2018-12-04 16:10:37,194 [INFO]  F1 Score: 0.6010564489847756\n",
      "2018-12-04 16:10:43,394 [INFO]  F1 Score: 0.4339406015723413\n",
      "/Users/jesse/anaconda3/envs/idp/lib/python3.6/site-packages/sklearn/metrics/classification.py:1143: UndefinedMetricWarning: F-score is ill-defined and being set to 0.0 in labels with no predicted samples.\n",
      "  'precision', 'predicted', average, warn_for)\n",
      "2018-12-04 16:10:43,554 [INFO]  F1 Score: 0.42712390639799036\n",
      "2018-12-04 16:10:44,109 [INFO]  F1 Score: 0.5969907536365803\n",
      "2018-12-04 16:10:44,355 [INFO]  F1 Score: 0.5959294506190915\n",
      "2018-12-04 16:11:11,967 [INFO]  F1 Score: 0.4485474535705281\n",
      "2018-12-04 16:11:13,775 [INFO]  F1 Score: 0.5983860701158463\n",
      "2018-12-04 16:11:22,977 [INFO]  F1 Score: 0.43059091704661256\n",
      "2018-12-04 16:11:24,555 [INFO]  F1 Score: 0.5990214314881639\n",
      "2018-12-04 16:11:52,651 [INFO]  F1 Score: 0.4504188293301107\n",
      "2018-12-04 16:11:55,704 [INFO]  F1 Score: 0.6917513863505724\n",
      "2018-12-04 16:12:27,120 [INFO]  F1 Score: 0.4563341727659216\n",
      "2018-12-04 16:12:30,943 [INFO]  F1 Score: 0.6925935030161664\n",
      "/Users/jesse/anaconda3/envs/idp/lib/python3.6/site-packages/sklearn/metrics/classification.py:1143: UndefinedMetricWarning: F-score is ill-defined and being set to 0.0 in labels with no predicted samples.\n",
      "  'precision', 'predicted', average, warn_for)\n",
      "2018-12-04 16:12:37,250 [INFO]  F1 Score: 0.4530954535116547\n",
      "2018-12-04 16:12:38,705 [INFO]  F1 Score: 0.6923117007404038\n",
      "/Users/jesse/anaconda3/envs/idp/lib/python3.6/site-packages/sklearn/metrics/classification.py:1143: UndefinedMetricWarning: F-score is ill-defined and being set to 0.0 in labels with no predicted samples.\n",
      "  'precision', 'predicted', average, warn_for)\n",
      "2018-12-04 16:13:11,515 [INFO]  F1 Score: 0.46599288061713573\n",
      "2018-12-04 16:13:14,056 [INFO]  F1 Score: 0.6915952527693016\n",
      "/Users/jesse/anaconda3/envs/idp/lib/python3.6/site-packages/sklearn/metrics/classification.py:1143: UndefinedMetricWarning: F-score is ill-defined and being set to 0.0 in labels with no predicted samples.\n",
      "  'precision', 'predicted', average, warn_for)\n",
      "2018-12-04 16:13:46,672 [INFO]  F1 Score: 0.4511013721419177\n",
      "2018-12-04 16:13:50,043 [INFO]  F1 Score: 0.6945268835461814\n",
      "/Users/jesse/anaconda3/envs/idp/lib/python3.6/site-packages/sklearn/metrics/classification.py:1143: UndefinedMetricWarning: F-score is ill-defined and being set to 0.0 in labels with no predicted samples.\n",
      "  'precision', 'predicted', average, warn_for)\n",
      "2018-12-04 16:14:15,944 [INFO]  F1 Score: 0.45922807717118513\n",
      "2018-12-04 16:14:19,269 [INFO]  F1 Score: 0.7567073050778027\n",
      "2018-12-04 16:14:54,490 [INFO]  F1 Score: 0.4704823915677304\n",
      "2018-12-04 16:14:58,374 [INFO]  F1 Score: 0.7542240915911559\n",
      "2018-12-04 16:15:47,596 [INFO]  F1 Score: 0.4657985228475421\n",
      "2018-12-04 16:15:51,411 [INFO]  F1 Score: 0.7529795925725483\n",
      "/Users/jesse/anaconda3/envs/idp/lib/python3.6/site-packages/sklearn/metrics/classification.py:1143: UndefinedMetricWarning: F-score is ill-defined and being set to 0.0 in labels with no predicted samples.\n",
      "  'precision', 'predicted', average, warn_for)\n",
      "2018-12-04 16:16:20,019 [INFO]  F1 Score: 0.4729710071412835\n",
      "2018-12-04 16:16:23,557 [INFO]  F1 Score: 0.7541593935094\n",
      "/Users/jesse/anaconda3/envs/idp/lib/python3.6/site-packages/sklearn/metrics/classification.py:1143: UndefinedMetricWarning: F-score is ill-defined and being set to 0.0 in labels with no predicted samples.\n",
      "  'precision', 'predicted', average, warn_for)\n",
      "2018-12-04 16:17:10,489 [INFO]  F1 Score: 0.4571809739581906\n",
      "2018-12-04 16:17:11,683 [INFO]  F1 Score: 0.7553213866938454\n",
      "2018-12-04 16:18:59,659 [INFO]  F1 Score: 0.45897596990088774\n",
      "2018-12-04 16:19:05,418 [INFO]  F1 Score: 0.8017489235064262\n",
      "/Users/jesse/anaconda3/envs/idp/lib/python3.6/site-packages/sklearn/metrics/classification.py:1143: UndefinedMetricWarning: F-score is ill-defined and being set to 0.0 in labels with no predicted samples.\n",
      "  'precision', 'predicted', average, warn_for)\n",
      "2018-12-04 16:19:30,869 [INFO]  F1 Score: 0.4655562099040383\n",
      "2018-12-04 16:19:34,381 [INFO]  F1 Score: 0.8013433396082317\n",
      "/Users/jesse/anaconda3/envs/idp/lib/python3.6/site-packages/sklearn/metrics/classification.py:1143: UndefinedMetricWarning: F-score is ill-defined and being set to 0.0 in labels with no predicted samples.\n",
      "  'precision', 'predicted', average, warn_for)\n",
      "2018-12-04 16:20:18,286 [INFO]  F1 Score: 0.4634940872206963\n",
      "2018-12-04 16:20:24,767 [INFO]  F1 Score: 0.799165092075563\n",
      "/Users/jesse/anaconda3/envs/idp/lib/python3.6/site-packages/sklearn/metrics/classification.py:1143: UndefinedMetricWarning: F-score is ill-defined and being set to 0.0 in labels with no predicted samples.\n",
      "  'precision', 'predicted', average, warn_for)\n",
      "2018-12-04 16:22:15,030 [INFO]  F1 Score: 0.47736951405997186\n",
      "2018-12-04 16:22:16,524 [INFO]  F1 Score: 0.8012725332785013\n",
      "/Users/jesse/anaconda3/envs/idp/lib/python3.6/site-packages/sklearn/metrics/classification.py:1143: UndefinedMetricWarning: F-score is ill-defined and being set to 0.0 in labels with no predicted samples.\n",
      "  'precision', 'predicted', average, warn_for)\n",
      "2018-12-04 16:22:46,427 [INFO]  F1 Score: 0.46231335197971124\n",
      "2018-12-04 16:22:51,225 [INFO]  F1 Score: 0.8026543829783106\n",
      "2018-12-04 16:24:40,197 [INFO]  F1 Score: 0.4625756283255969\n"
     ]
    },
    {
     "name": "stderr",
     "output_type": "stream",
     "text": [
      "2018-12-04 16:24:49,442 [INFO]  F1 Score: 0.8382834440962956\n",
      "/Users/jesse/anaconda3/envs/idp/lib/python3.6/site-packages/sklearn/metrics/classification.py:1143: UndefinedMetricWarning: F-score is ill-defined and being set to 0.0 in labels with no predicted samples.\n",
      "  'precision', 'predicted', average, warn_for)\n",
      "2018-12-04 16:26:59,344 [INFO]  F1 Score: 0.46440418605427836\n",
      "2018-12-04 16:27:08,616 [INFO]  F1 Score: 0.8392221401724609\n",
      "/Users/jesse/anaconda3/envs/idp/lib/python3.6/site-packages/sklearn/metrics/classification.py:1143: UndefinedMetricWarning: F-score is ill-defined and being set to 0.0 in labels with no predicted samples.\n",
      "  'precision', 'predicted', average, warn_for)\n",
      "2018-12-04 16:27:45,169 [INFO]  F1 Score: 0.4583670648414281\n",
      "2018-12-04 16:27:48,043 [INFO]  F1 Score: 0.8388945046232917\n"
     ]
    }
   ],
   "source": [
    "from IPython.display import clear_output\n",
    "from sklearn.model_selection import GridSearchCV\n",
    "from sklearn.externals import joblib\n",
    "from sklearn.decomposition import TruncatedSVD\n",
    "\n",
    "from fgclassifier.baseline import Baseline, MultiOutputClassifier\n",
    "from fgclassifier.classifiers import LinearDiscriminantAnalysis as LDA\n",
    "\n",
    "max_dim = len(pipeline.named_steps.tfidf.idf_)\n",
    "clf = Pipeline([\n",
    "    ('svd', TruncatedSVD(n_components=100)),\n",
    "    ('clf', MultiOutputClassifier(LDA()))\n",
    "])\n",
    "\n",
    "parameters = {\n",
    "    'svd__n_components': np.linspace(100, max_dim, 10, dtype=int)\n",
    "}\n",
    "\n",
    "with joblib.parallel_backend('threading', n_jobs=3):\n",
    "    searcher = GridSearchCV(\n",
    "        clf, parameters, cv=5,\n",
    "        verbose=True,\n",
    "        return_train_score=True\n",
    "    )\n",
    "    searcher.fit(Xt, y_train)\n",
    "    \n",
    "clear_output()"
   ]
  },
  {
   "cell_type": "code",
   "execution_count": null,
   "metadata": {},
   "outputs": [],
   "source": [
    "grid_search.best_estimator_"
   ]
  },
  {
   "cell_type": "code",
   "execution_count": 78,
   "metadata": {},
   "outputs": [
    {
     "name": "stdout",
     "output_type": "stream",
     "text": [
      "            variable  accuracy  lda_n_components\n",
      "0    mean_test_score  0.465300             100.0\n",
      "1    mean_test_score  0.465300             200.0\n",
      "2    mean_test_score  0.465300             300.0\n",
      "3    mean_test_score  0.465300             400.0\n",
      "4    mean_test_score  0.465300             500.0\n",
      "5    mean_test_score  0.465300               NaN\n",
      "6   mean_train_score  0.777689             100.0\n",
      "7   mean_train_score  0.777689             200.0\n",
      "8   mean_train_score  0.777689             300.0\n",
      "9   mean_train_score  0.777689             400.0\n",
      "10  mean_train_score  0.777689             500.0\n",
      "11  mean_train_score  0.777689               NaN\n"
     ]
    },
    {
     "name": "stderr",
     "output_type": "stream",
     "text": [
      "/Users/jesse/anaconda3/envs/idp/lib/python3.6/site-packages/sklearn/utils/deprecation.py:125: FutureWarning: You are accessing a training score ('split0_train_score'), which will not be available by default any more in 0.21. If you need training scores, please set return_train_score=True\n",
      "  warnings.warn(*warn_args, **warn_kwargs)\n",
      "/Users/jesse/anaconda3/envs/idp/lib/python3.6/site-packages/sklearn/utils/deprecation.py:125: FutureWarning: You are accessing a training score ('split1_train_score'), which will not be available by default any more in 0.21. If you need training scores, please set return_train_score=True\n",
      "  warnings.warn(*warn_args, **warn_kwargs)\n",
      "/Users/jesse/anaconda3/envs/idp/lib/python3.6/site-packages/sklearn/utils/deprecation.py:125: FutureWarning: You are accessing a training score ('split2_train_score'), which will not be available by default any more in 0.21. If you need training scores, please set return_train_score=True\n",
      "  warnings.warn(*warn_args, **warn_kwargs)\n",
      "/Users/jesse/anaconda3/envs/idp/lib/python3.6/site-packages/sklearn/utils/deprecation.py:125: FutureWarning: You are accessing a training score ('split3_train_score'), which will not be available by default any more in 0.21. If you need training scores, please set return_train_score=True\n",
      "  warnings.warn(*warn_args, **warn_kwargs)\n",
      "/Users/jesse/anaconda3/envs/idp/lib/python3.6/site-packages/sklearn/utils/deprecation.py:125: FutureWarning: You are accessing a training score ('mean_train_score'), which will not be available by default any more in 0.21. If you need training scores, please set return_train_score=True\n",
      "  warnings.warn(*warn_args, **warn_kwargs)\n",
      "/Users/jesse/anaconda3/envs/idp/lib/python3.6/site-packages/sklearn/utils/deprecation.py:125: FutureWarning: You are accessing a training score ('std_train_score'), which will not be available by default any more in 0.21. If you need training scores, please set return_train_score=True\n",
      "  warnings.warn(*warn_args, **warn_kwargs)\n"
     ]
    },
    {
     "data": {
      "text/html": [
       "<div>\n",
       "<style scoped>\n",
       "    .dataframe tbody tr th:only-of-type {\n",
       "        vertical-align: middle;\n",
       "    }\n",
       "\n",
       "    .dataframe tbody tr th {\n",
       "        vertical-align: top;\n",
       "    }\n",
       "\n",
       "    .dataframe thead th {\n",
       "        text-align: right;\n",
       "    }\n",
       "</style>\n",
       "<table border=\"1\" class=\"dataframe\">\n",
       "  <thead>\n",
       "    <tr style=\"text-align: right;\">\n",
       "      <th></th>\n",
       "      <th>lda_n_components</th>\n",
       "      <th>train_or_test</th>\n",
       "      <th>split</th>\n",
       "      <th>error</th>\n",
       "    </tr>\n",
       "  </thead>\n",
       "  <tbody>\n",
       "    <tr>\n",
       "      <th>11</th>\n",
       "      <td>NaN</td>\n",
       "      <td>train</td>\n",
       "      <td>NaN</td>\n",
       "      <td>0.222311</td>\n",
       "    </tr>\n",
       "    <tr>\n",
       "      <th>4</th>\n",
       "      <td>500.0</td>\n",
       "      <td>test</td>\n",
       "      <td>NaN</td>\n",
       "      <td>0.534700</td>\n",
       "    </tr>\n",
       "    <tr>\n",
       "      <th>9</th>\n",
       "      <td>400.0</td>\n",
       "      <td>train</td>\n",
       "      <td>NaN</td>\n",
       "      <td>0.222311</td>\n",
       "    </tr>\n",
       "  </tbody>\n",
       "</table>\n",
       "</div>"
      ],
      "text/plain": [
       "    lda_n_components train_or_test split     error\n",
       "11               NaN         train   NaN  0.222311\n",
       "4              500.0          test   NaN  0.534700\n",
       "9              400.0         train   NaN  0.222311"
      ]
     },
     "execution_count": 78,
     "metadata": {},
     "output_type": "execute_result"
    }
   ],
   "source": [
    "import seaborn as sns\n",
    "\n",
    "def extract_results(searcher):\n",
    "    \"\"\"Process the results for display\"\"\"\n",
    "    results =  pd.melt(\n",
    "        pd.DataFrame(searcher.cv_results_),\n",
    "        id_vars=['param_estimator'],\n",
    "        value_vars=[\n",
    "            'mean_test_score',\n",
    "            'mean_train_score',\n",
    "        ],\n",
    "        value_name='accuracy'\n",
    "    )\n",
    "    results['lda_n_components'] = [x.n_components for x in results['param_estimator']]\n",
    "    results = results.drop(['param_estimator'], axis=1)\n",
    "    print(results)\n",
    "    results['train_or_test'] = np.where(results['variable'].str.contains('test'),\n",
    "                                        'test', 'train')\n",
    "    results['split'] = results['variable'].str.extract(r'(\\d)')\n",
    "    results['error'] = 1 - results['accuracy']\n",
    "    results = results.drop(['variable', 'accuracy'], axis=1)\n",
    "    return results\n",
    "\n",
    "results = extract_results(grid_search)\n",
    "results.sample(3)"
   ]
  },
  {
   "cell_type": "code",
   "execution_count": 80,
   "metadata": {},
   "outputs": [
    {
     "name": "stderr",
     "output_type": "stream",
     "text": [
      "/Users/jesse/anaconda3/envs/idp/lib/python3.6/site-packages/sklearn/utils/deprecation.py:125: FutureWarning: You are accessing a training score ('split0_train_score'), which will not be available by default any more in 0.21. If you need training scores, please set return_train_score=True\n",
      "  warnings.warn(*warn_args, **warn_kwargs)\n",
      "/Users/jesse/anaconda3/envs/idp/lib/python3.6/site-packages/sklearn/utils/deprecation.py:125: FutureWarning: You are accessing a training score ('split1_train_score'), which will not be available by default any more in 0.21. If you need training scores, please set return_train_score=True\n",
      "  warnings.warn(*warn_args, **warn_kwargs)\n",
      "/Users/jesse/anaconda3/envs/idp/lib/python3.6/site-packages/sklearn/utils/deprecation.py:125: FutureWarning: You are accessing a training score ('split2_train_score'), which will not be available by default any more in 0.21. If you need training scores, please set return_train_score=True\n",
      "  warnings.warn(*warn_args, **warn_kwargs)\n",
      "/Users/jesse/anaconda3/envs/idp/lib/python3.6/site-packages/sklearn/utils/deprecation.py:125: FutureWarning: You are accessing a training score ('split3_train_score'), which will not be available by default any more in 0.21. If you need training scores, please set return_train_score=True\n",
      "  warnings.warn(*warn_args, **warn_kwargs)\n",
      "/Users/jesse/anaconda3/envs/idp/lib/python3.6/site-packages/sklearn/utils/deprecation.py:125: FutureWarning: You are accessing a training score ('mean_train_score'), which will not be available by default any more in 0.21. If you need training scores, please set return_train_score=True\n",
      "  warnings.warn(*warn_args, **warn_kwargs)\n",
      "/Users/jesse/anaconda3/envs/idp/lib/python3.6/site-packages/sklearn/utils/deprecation.py:125: FutureWarning: You are accessing a training score ('std_train_score'), which will not be available by default any more in 0.21. If you need training scores, please set return_train_score=True\n",
      "  warnings.warn(*warn_args, **warn_kwargs)\n"
     ]
    },
    {
     "data": {
      "text/plain": [
       "{'mean_fit_time': array([62.54476374, 69.18490821, 69.82223725, 69.19842786, 70.91524029,\n",
       "        63.7616508 ]),\n",
       " 'std_fit_time': array([3.26797614, 3.14853783, 9.78655297, 4.76832626, 3.98148706,\n",
       "        1.20111508]),\n",
       " 'mean_score_time': array([0.21988481, 0.18551934, 0.22027987, 0.21431428, 0.20507872,\n",
       "        0.1853742 ]),\n",
       " 'std_score_time': array([0.06669929, 0.02336994, 0.05080801, 0.03288661, 0.03675586,\n",
       "        0.02028173]),\n",
       " 'param_estimator': masked_array(data=[LinearDiscriminantAnalysis(n_components=100, priors=None, shrinkage=None,\n",
       "               solver='svd', store_covariance=False, tol=0.0001),\n",
       "                    LinearDiscriminantAnalysis(n_components=200, priors=None, shrinkage=None,\n",
       "               solver='svd', store_covariance=False, tol=0.0001),\n",
       "                    LinearDiscriminantAnalysis(n_components=300, priors=None, shrinkage=None,\n",
       "               solver='svd', store_covariance=False, tol=0.0001),\n",
       "                    LinearDiscriminantAnalysis(n_components=400, priors=None, shrinkage=None,\n",
       "               solver='svd', store_covariance=False, tol=0.0001),\n",
       "                    LinearDiscriminantAnalysis(n_components=500, priors=None, shrinkage=None,\n",
       "               solver='svd', store_covariance=False, tol=0.0001),\n",
       "                    LinearDiscriminantAnalysis(n_components=None, priors=None, shrinkage=None,\n",
       "               solver='svd', store_covariance=False, tol=0.0001)],\n",
       "              mask=[False, False, False, False, False, False],\n",
       "        fill_value='?',\n",
       "             dtype=object),\n",
       " 'params': [{'estimator': LinearDiscriminantAnalysis(n_components=100, priors=None, shrinkage=None,\n",
       "                 solver='svd', store_covariance=False, tol=0.0001)},\n",
       "  {'estimator': LinearDiscriminantAnalysis(n_components=200, priors=None, shrinkage=None,\n",
       "                 solver='svd', store_covariance=False, tol=0.0001)},\n",
       "  {'estimator': LinearDiscriminantAnalysis(n_components=300, priors=None, shrinkage=None,\n",
       "                 solver='svd', store_covariance=False, tol=0.0001)},\n",
       "  {'estimator': LinearDiscriminantAnalysis(n_components=400, priors=None, shrinkage=None,\n",
       "                 solver='svd', store_covariance=False, tol=0.0001)},\n",
       "  {'estimator': LinearDiscriminantAnalysis(n_components=500, priors=None, shrinkage=None,\n",
       "                 solver='svd', store_covariance=False, tol=0.0001)},\n",
       "  {'estimator': LinearDiscriminantAnalysis(n_components=None, priors=None, shrinkage=None,\n",
       "                 solver='svd', store_covariance=False, tol=0.0001)}],\n",
       " 'split0_test_score': array([0.46276682, 0.46276682, 0.46276682, 0.46276682, 0.46276682,\n",
       "        0.46276682]),\n",
       " 'split1_test_score': array([0.46265278, 0.46265278, 0.46265278, 0.46265278, 0.46265278,\n",
       "        0.46265278]),\n",
       " 'split2_test_score': array([0.4660583, 0.4660583, 0.4660583, 0.4660583, 0.4660583, 0.4660583]),\n",
       " 'split3_test_score': array([0.46972272, 0.46972272, 0.46972272, 0.46972272, 0.46972272,\n",
       "        0.46972272]),\n",
       " 'mean_test_score': array([0.46530015, 0.46530015, 0.46530015, 0.46530015, 0.46530015,\n",
       "        0.46530015]),\n",
       " 'std_test_score': array([0.00289656, 0.00289656, 0.00289656, 0.00289656, 0.00289656,\n",
       "        0.00289656]),\n",
       " 'rank_test_score': array([1, 1, 1, 1, 1, 1], dtype=int32),\n",
       " 'split0_train_score': array([0.7765382, 0.7765382, 0.7765382, 0.7765382, 0.7765382, 0.7765382]),\n",
       " 'split1_train_score': array([0.77705868, 0.77705868, 0.77705868, 0.77705868, 0.77705868,\n",
       "        0.77705868]),\n",
       " 'split2_train_score': array([0.77734272, 0.77734272, 0.77734272, 0.77734272, 0.77734272,\n",
       "        0.77734272]),\n",
       " 'split3_train_score': array([0.77981498, 0.77981498, 0.77981498, 0.77981498, 0.77981498,\n",
       "        0.77981498]),\n",
       " 'mean_train_score': array([0.77768865, 0.77768865, 0.77768865, 0.77768865, 0.77768865,\n",
       "        0.77768865]),\n",
       " 'std_train_score': array([0.00126108, 0.00126108, 0.00126108, 0.00126108, 0.00126108,\n",
       "        0.00126108])}"
      ]
     },
     "execution_count": 80,
     "metadata": {},
     "output_type": "execute_result"
    }
   ],
   "source": [
    "grid_search.cv_results_"
   ]
  },
  {
   "cell_type": "markdown",
   "metadata": {},
   "source": [
    "Looks like the LDA paramater does not matter for LDA."
   ]
  },
  {
   "cell_type": "code",
   "execution_count": null,
   "metadata": {},
   "outputs": [],
   "source": []
  }
 ],
 "metadata": {
  "kernelspec": {
   "display_name": "Python 3",
   "language": "python",
   "name": "python3"
  },
  "language_info": {
   "codemirror_mode": {
    "name": "ipython",
    "version": 3
   },
   "file_extension": ".py",
   "mimetype": "text/x-python",
   "name": "python",
   "nbconvert_exporter": "python",
   "pygments_lexer": "ipython3",
   "version": "3.6.5"
  }
 },
 "nbformat": 4,
 "nbformat_minor": 2
}
