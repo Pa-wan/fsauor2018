{
 "cells": [
  {
   "cell_type": "code",
   "execution_count": 1,
   "metadata": {},
   "outputs": [],
   "source": [
    "%load_ext autoreload\n",
    "%autoreload 2\n",
    "%matplotlib inline\n",
    "%config InlineBackend.figure_format = 'retina'\n",
    "\n",
    "import pandas as pd\n",
    "import numpy as np\n",
    "import matplotlib.pyplot as plt\n",
    "\n",
    "import logging\n",
    "\n",
    "logging.getLogger('jieba').setLevel(logging.WARN)\n",
    "logging.getLogger('fgclassifier').setLevel(logging.INFO)"
   ]
  },
  {
   "cell_type": "code",
   "execution_count": 2,
   "metadata": {},
   "outputs": [],
   "source": [
    "import os\n",
    "\n",
    "os.chdir('..')"
   ]
  },
  {
   "cell_type": "markdown",
   "metadata": {},
   "source": [
    "# Model Selection\n",
    "\n",
    "## Baseline Models"
   ]
  },
  {
   "cell_type": "markdown",
   "metadata": {},
   "source": [
    "This notebook shows how to use our baseline model.\n",
    "It also demonstrates how to test different feature models (i.e.,\n",
    "different ways of building the features) at the same time.\n",
    "\n",
    "We will use mostly the Google Translated English dataset for this\n",
    "demonstration purpose."
   ]
  },
  {
   "cell_type": "code",
   "execution_count": 4,
   "metadata": {
    "scrolled": false
   },
   "outputs": [],
   "source": [
    "import config\n",
    "from collections import defaultdict\n",
    "from sklearn.model_selection import train_test_split\n",
    "\n",
    "from fgclassifier.utils import read_data, get_dataset\n",
    "\n",
    "X_train, y_train = read_data(get_dataset('train'))\n",
    "X_test, y_test = read_data(get_dataset('valid'))"
   ]
  },
  {
   "cell_type": "code",
   "execution_count": 5,
   "metadata": {},
   "outputs": [],
   "source": [
    "# Cache feature models and trained fetures, we make this cache object\n",
    "# so different steps can reuse previously transformed features\n",
    "fm = defaultdict(dict)"
   ]
  },
  {
   "cell_type": "code",
   "execution_count": 14,
   "metadata": {},
   "outputs": [],
   "source": [
    "# del fm['tfidf_sv']\n",
    "# del fm['tfidf_sv_dense']\n",
    "# del fm['lsa_200_sv']\n",
    "# del fm['lsa_500_sv']"
   ]
  },
  {
   "cell_type": "code",
   "execution_count": 16,
   "metadata": {},
   "outputs": [
    {
     "name": "stderr",
     "output_type": "stream",
     "text": [
      "2018-12-03 16:31:47,205 [INFO] Building features for count...\n",
      "2018-12-03 16:31:47,206 [INFO]   count: fit_transform use cache.\n",
      "2018-12-03 16:31:47,210 [INFO]   count: transform use cache.\n",
      "2018-12-03 16:31:47,222 [INFO] Building features for tfidf...\n",
      "2018-12-03 16:31:47,223 [INFO]   tfidf: fit_transform use cache.\n",
      "2018-12-03 16:31:47,226 [INFO]   tfidf: transform use cache.\n",
      "2018-12-03 16:31:47,230 [INFO] Building features for lsa_200...\n",
      "2018-12-03 16:31:47,232 [INFO]   lsa_200: fit_transform use cache.\n",
      "2018-12-03 16:31:47,235 [INFO]   lsa_200: transform use cache.\n",
      "2018-12-03 16:31:47,237 [INFO] Building features for lsa_500...\n",
      "2018-12-03 16:31:47,238 [INFO]   lsa_500: fit_transform use cache.\n",
      "2018-12-03 16:31:47,240 [INFO]   lsa_500: transform use cache.\n",
      "2018-12-03 16:31:47,241 [INFO] Building features for lsa_1k...\n",
      "2018-12-03 16:31:47,243 [INFO]   lsa_1k: fit_transform use cache.\n",
      "2018-12-03 16:31:47,248 [INFO]   lsa_1k: transform use cache.\n",
      "2018-12-03 16:31:47,249 [INFO] Building features for count_sv...\n",
      "2018-12-03 16:31:47,251 [INFO]   count_sv: fit_transform use cache.\n",
      "2018-12-03 16:31:47,252 [INFO]   count_sv: transform use cache.\n",
      "2018-12-03 16:31:47,254 [INFO] Building features for tfidf_sv...\n",
      "2018-12-03 16:31:47,255 [INFO]   tfidf_sv: fit_transform use cache.\n",
      "2018-12-03 16:31:47,256 [INFO]   tfidf_sv: transform use cache.\n",
      "2018-12-03 16:31:47,257 [INFO] Building features for tfidf_sv_dense...\n",
      "2018-12-03 16:31:47,259 [INFO]   tfidf_sv_dense: fit_transform use cache.\n",
      "2018-12-03 16:31:47,260 [INFO]   tfidf_sv_dense: transform use cache.\n",
      "2018-12-03 16:31:47,261 [INFO] Building features for lsa_200_sv...\n",
      "2018-12-03 16:31:47,264 [INFO]   tfidf_sv: fit_transform use cache.\n",
      "2018-12-03 16:31:47,265 [INFO] Fit & Transform TruncatedSVD...\n",
      "2018-12-03 16:32:08,610 [INFO]   tfidf_sv: transform use cache.\n",
      "2018-12-03 16:32:08,738 [INFO] Building features for lsa_500_sv...\n",
      "2018-12-03 16:32:08,739 [INFO]   tfidf_sv: fit_transform use cache.\n",
      "2018-12-03 16:32:08,741 [INFO] Fit & Transform TruncatedSVD...\n",
      "2018-12-03 16:33:08,235 [INFO]   tfidf_sv: transform use cache.\n"
     ]
    }
   ],
   "source": [
    "from fgclassifier.features import FeaturePipeline, logger\n",
    "\n",
    "for name in ['count', 'tfidf',\n",
    "             'lsa_200', 'lsa_500', 'lsa_1k',\n",
    "             'count_sv', 'tfidf_sv', 'tfidf_sv_dense',\n",
    "             'lsa_200_sv', 'lsa_500_sv']:\n",
    "    logger.info(f'Building features for {name}...')\n",
    "    model = FeaturePipeline.from_spec(name, cache=fm)\n",
    "    model.fit_transform(X_train)\n",
    "    model.transform(X_test)"
   ]
  },
  {
   "cell_type": "markdown",
   "metadata": {},
   "source": [
    "Exam the quality of the top terms:"
   ]
  },
  {
   "cell_type": "code",
   "execution_count": 22,
   "metadata": {},
   "outputs": [
    {
     "name": "stdout",
     "output_type": "stream",
     "text": [
      "Data Shape: (105000,) (15000,)\n",
      "\n",
      "min_df: 0.005, max_df: 0.990, ngram_range: (1, 5)\n",
      "\n",
      "vocab size: 2959\n",
      "\n",
      "味道 \t 124409\n",
      "不错 \t 120832\n",
      "感觉 \t 91453\n",
      "可以 \t 90883\n",
      "好吃 \t 83884\n",
      "还是 \t 83418\n",
      "没有 \t 75014\n",
      "比较 \t 73069\n",
      "我们 \t 67480\n",
      "就是 \t 66943\n",
      "\n",
      "min_df: 0.010, max_df: 0.990, ngram_range: (1, 5)\n",
      "\n",
      "vocab size: 1486\n",
      "\n",
      "味道 \t 124409\n",
      "不错 \t 120832\n",
      "感觉 \t 91453\n",
      "可以 \t 90883\n",
      "好吃 \t 83884\n",
      "还是 \t 83418\n",
      "没有 \t 75014\n",
      "比较 \t 73069\n",
      "我们 \t 67480\n",
      "就是 \t 66943\n"
     ]
    }
   ],
   "source": [
    "from collections import Counter\n",
    "\n",
    "print('Data Shape:', X_train.shape, X_test.shape)\n",
    "\n",
    "for mn in ['count', 'count_sv']:\n",
    "    model = fm[mn]['model'].named_steps[mn]\n",
    "    x_train = fm[mn]['train']\n",
    "    counts = np.sum(x_train, axis=0).flat\n",
    "    counts = {k: counts[v] for k, v in model.vocabulary_.items()}\n",
    "    print('\\nmin_df: %.3f, max_df: %.3f, ngram_range: %s' % (\n",
    "        model.min_df, model.max_df, model.ngram_range\n",
    "    ))\n",
    "    print('\\nvocab size: %s\\n' % len(model.vocabulary_))\n",
    "    print('\\n'.join([\n",
    "        '%s \\t %s' % (k, v)\n",
    "        for k, v in Counter(counts).most_common()[:10]]))"
   ]
  },
  {
   "cell_type": "code",
   "execution_count": 24,
   "metadata": {},
   "outputs": [
    {
     "data": {
      "text/plain": [
       "{'count': FeaturePipeline(steps=count),\n",
       " 'tfidf': Tfidf(norm='l2', smooth_idf=True, sublinear_tf=False, use_idf=True)}"
      ]
     },
     "execution_count": 24,
     "metadata": {},
     "output_type": "execute_result"
    }
   ],
   "source": [
    "fm['tfidf']['model'].named_steps"
   ]
  },
  {
   "cell_type": "markdown",
   "metadata": {},
   "source": [
    "## The Very Basic TF-IDF + LDA classifier"
   ]
  },
  {
   "cell_type": "code",
   "execution_count": 25,
   "metadata": {},
   "outputs": [],
   "source": [
    "# Impact all feature models at once, so to avoid\n",
    "# classes being reloaded and causing save_model to fail\n",
    "from fgclassifier.baseline import Baseline, Dummy\n",
    "from fgclassifier.classifiers import LDA\n",
    "from fgclassifier.train import fm_cross_check"
   ]
  },
  {
   "cell_type": "code",
   "execution_count": 26,
   "metadata": {},
   "outputs": [
    {
     "name": "stderr",
     "output_type": "stream",
     "text": [
      "2018-12-03 16:35:40,836 [INFO]   lsa_200: fit_transform use cache.\n",
      "2018-12-03 16:38:10,370 [INFO]   lsa_200: transform use cache.\n"
     ]
    },
    {
     "name": "stdout",
     "output_type": "stream",
     "text": [
      "lsa_200_LDA\n"
     ]
    },
    {
     "name": "stderr",
     "output_type": "stream",
     "text": [
      "2018-12-03 16:38:10,648 [INFO] [Validate]: F1 Scores\n",
      "2018-12-03 16:38:10,664 [INFO]   location_traffic_convenience            \t0.4216\n",
      "/Users/jesse/anaconda3/envs/idp/lib/python3.6/site-packages/sklearn/metrics/classification.py:1143: UndefinedMetricWarning: F-score is ill-defined and being set to 0.0 in labels with no predicted samples.\n",
      "  'precision', 'predicted', average, warn_for)\n",
      "2018-12-03 16:38:10,674 [INFO]   location_distance_from_business_district\t0.3212\n",
      "2018-12-03 16:38:10,680 [INFO]   location_easy_to_find                   \t0.3737\n",
      "2018-12-03 16:38:10,685 [INFO]   service_wait_time                       \t0.4443\n",
      "2018-12-03 16:38:10,693 [INFO]   service_waiters_attitude                \t0.5768\n",
      "2018-12-03 16:38:10,698 [INFO]   service_parking_convenience             \t0.4081\n",
      "2018-12-03 16:38:10,703 [INFO]   service_serving_speed                   \t0.4231\n",
      "2018-12-03 16:38:10,708 [INFO]   price_level                             \t0.4622\n",
      "2018-12-03 16:38:10,713 [INFO]   price_cost_effective                    \t0.4542\n",
      "2018-12-03 16:38:10,718 [INFO]   price_discount                          \t0.5256\n",
      "2018-12-03 16:38:10,724 [INFO]   environment_decoration                  \t0.4345\n",
      "2018-12-03 16:38:10,728 [INFO]   environment_noise                       \t0.4134\n",
      "2018-12-03 16:38:10,734 [INFO]   environment_space                       \t0.3997\n",
      "2018-12-03 16:38:10,740 [INFO]   environment_cleaness                    \t0.4769\n",
      "2018-12-03 16:38:10,745 [INFO]   dish_portion                            \t0.3627\n",
      "2018-12-03 16:38:10,756 [INFO]   dish_taste                              \t0.5287\n",
      "2018-12-03 16:38:10,767 [INFO]   dish_look                               \t0.3336\n",
      "2018-12-03 16:38:10,781 [INFO]   dish_recommendation                     \t0.3894\n",
      "2018-12-03 16:38:10,793 [INFO]   others_overall_experience               \t0.4841\n",
      "2018-12-03 16:38:10,807 [INFO]   others_willing_to_consume_again         \t0.4838\n"
     ]
    },
    {
     "name": "stdout",
     "output_type": "stream",
     "text": [
      "Final score: 0.43588017714066274\n"
     ]
    }
   ],
   "source": [
    "# Linear Discriminant Analysis, specify the FeaturePipeline\n",
    "# as steps\n",
    "model = Baseline(('LDA', LDA), fm=fm['lsa_200']['model'])\n",
    "\n",
    "# Always pass in the original features\n",
    "# the pipeline will take care of the cache\n",
    "model.fit(X_train, y_train)\n",
    "print(model.name)\n",
    "print('Final score:', model.score(X_test, y_test))"
   ]
  },
  {
   "cell_type": "code",
   "execution_count": 27,
   "metadata": {},
   "outputs": [
    {
     "name": "stderr",
     "output_type": "stream",
     "text": [
      "2018-12-03 16:38:10,907 [INFO]   lsa_200: transform use cache.\n",
      "2018-12-03 16:38:11,154 [INFO] [Validate]: F1 Scores\n",
      "2018-12-03 16:38:11,160 [INFO]   location_traffic_convenience            \t0.4216\n",
      "/Users/jesse/anaconda3/envs/idp/lib/python3.6/site-packages/sklearn/metrics/classification.py:1143: UndefinedMetricWarning: F-score is ill-defined and being set to 0.0 in labels with no predicted samples.\n",
      "  'precision', 'predicted', average, warn_for)\n",
      "2018-12-03 16:38:11,166 [INFO]   location_distance_from_business_district\t0.3212\n",
      "2018-12-03 16:38:11,171 [INFO]   location_easy_to_find                   \t0.3737\n",
      "2018-12-03 16:38:11,176 [INFO]   service_wait_time                       \t0.4443\n",
      "2018-12-03 16:38:11,183 [INFO]   service_waiters_attitude                \t0.5768\n",
      "2018-12-03 16:38:11,188 [INFO]   service_parking_convenience             \t0.4081\n",
      "2018-12-03 16:38:11,194 [INFO]   service_serving_speed                   \t0.4231\n",
      "2018-12-03 16:38:11,200 [INFO]   price_level                             \t0.4622\n",
      "2018-12-03 16:38:11,205 [INFO]   price_cost_effective                    \t0.4542\n",
      "2018-12-03 16:38:11,211 [INFO]   price_discount                          \t0.5256\n",
      "2018-12-03 16:38:11,221 [INFO]   environment_decoration                  \t0.4345\n",
      "2018-12-03 16:38:11,231 [INFO]   environment_noise                       \t0.4134\n",
      "2018-12-03 16:38:11,242 [INFO]   environment_space                       \t0.3997\n",
      "2018-12-03 16:38:11,252 [INFO]   environment_cleaness                    \t0.4769\n",
      "2018-12-03 16:38:11,260 [INFO]   dish_portion                            \t0.3627\n",
      "2018-12-03 16:38:11,294 [INFO]   dish_taste                              \t0.5287\n",
      "2018-12-03 16:38:11,303 [INFO]   dish_look                               \t0.3336\n",
      "2018-12-03 16:38:11,318 [INFO]   dish_recommendation                     \t0.3894\n",
      "2018-12-03 16:38:11,336 [INFO]   others_overall_experience               \t0.4841\n",
      "2018-12-03 16:38:11,342 [INFO]   others_willing_to_consume_again         \t0.4838\n"
     ]
    },
    {
     "data": {
      "text/plain": [
       "[0.4216034504833237,\n",
       " 0.32121982251231634,\n",
       " 0.3736779422878393,\n",
       " 0.44433567028770693,\n",
       " 0.5767993817019281,\n",
       " 0.4080903682809518,\n",
       " 0.4230675551515519,\n",
       " 0.4622230622791564,\n",
       " 0.4542291267911739,\n",
       " 0.525597439225672,\n",
       " 0.43450171068241394,\n",
       " 0.4133843136767832,\n",
       " 0.3996748693028679,\n",
       " 0.4768842811889512,\n",
       " 0.36269423722351524,\n",
       " 0.5286573221305858,\n",
       " 0.3335855129187495,\n",
       " 0.38940573775982806,\n",
       " 0.4841382505503321,\n",
       " 0.4838334883776081]"
      ]
     },
     "execution_count": 27,
     "metadata": {},
     "output_type": "execute_result"
    }
   ],
   "source": [
    "model.scores(X_test, y_test)"
   ]
  },
  {
   "cell_type": "markdown",
   "metadata": {},
   "source": [
    "## Search for the Best Feature + Classifier Combination"
   ]
  },
  {
   "cell_type": "code",
   "execution_count": 28,
   "metadata": {},
   "outputs": [],
   "source": [
    "# Run for all classifiers and feature builders\n",
    "all_avg_scores, all_scores = defaultdict(dict), defaultdict(dict)"
   ]
  },
  {
   "cell_type": "code",
   "execution_count": 29,
   "metadata": {},
   "outputs": [
    {
     "data": {
      "text/plain": [
       "Dummy(classifier=None)"
      ]
     },
     "execution_count": 29,
     "metadata": {},
     "output_type": "execute_result"
    }
   ],
   "source": [
    "from fgclassifier import classifiers\n",
    "from fgclassifier.baseline import Dummy\n",
    "\n",
    "Dummy(classifiers.DummyStratified)"
   ]
  },
  {
   "cell_type": "code",
   "execution_count": null,
   "metadata": {
    "scrolled": false
   },
   "outputs": [
    {
     "name": "stderr",
     "output_type": "stream",
     "text": [
      "2018-12-03 16:50:07,937 [INFO] \n",
      "2018-12-03 16:50:07,940 [INFO] ============ Feature Model: tfidf_sv ============\n",
      "2018-12-03 16:50:07,952 [INFO] \n",
      "2018-12-03 16:50:07,954 [INFO] Train for tfidf_sv -> DummyStratified...\n",
      "2018-12-03 16:50:09,101 [INFO] [Validate]: F1 Scores\n",
      "2018-12-03 16:50:09,117 [INFO]   location_traffic_convenience            \t0.2524\n",
      "2018-12-03 16:50:09,126 [INFO]   location_distance_from_business_district\t0.2579\n",
      "2018-12-03 16:50:09,145 [INFO]   location_easy_to_find                   \t0.2505\n",
      "2018-12-03 16:50:09,159 [INFO]   service_wait_time                       \t0.2522\n",
      "2018-12-03 16:50:09,169 [INFO]   service_waiters_attitude                \t0.2535\n",
      "2018-12-03 16:50:09,179 [INFO]   service_parking_convenience             \t0.2503\n",
      "2018-12-03 16:50:09,190 [INFO]   service_serving_speed                   \t0.2465\n",
      "2018-12-03 16:50:09,198 [INFO]   price_level                             \t0.2458\n",
      "2018-12-03 16:50:09,225 [INFO]   price_cost_effective                    \t0.2563\n",
      "2018-12-03 16:50:09,233 [INFO]   price_discount                          \t0.2490\n",
      "2018-12-03 16:50:09,239 [INFO]   environment_decoration                  \t0.2578\n",
      "2018-12-03 16:50:09,251 [INFO]   environment_noise                       \t0.2492\n",
      "2018-12-03 16:50:09,260 [INFO]   environment_space                       \t0.2438\n",
      "2018-12-03 16:50:09,267 [INFO]   environment_cleaness                    \t0.2484\n",
      "2018-12-03 16:50:09,275 [INFO]   dish_portion                            \t0.2423\n",
      "2018-12-03 16:50:09,286 [INFO]   dish_taste                              \t0.2451\n",
      "2018-12-03 16:50:09,292 [INFO]   dish_look                               \t0.2512\n",
      "2018-12-03 16:50:09,305 [INFO]   dish_recommendation                     \t0.2488\n",
      "2018-12-03 16:50:09,311 [INFO]   others_overall_experience               \t0.2443\n",
      "2018-12-03 16:50:09,319 [INFO]   others_willing_to_consume_again         \t0.2481\n",
      "2018-12-03 16:50:09,320 [INFO] ---------------------------------------------------\n",
      "2018-12-03 16:50:09,321 [INFO] 【tfidf_sv -> DummyStratified】: 0.2497\n",
      "2018-12-03 16:50:09,323 [INFO] ---------------------------------------------------\n",
      "2018-12-03 16:50:09,325 [INFO] Train for tfidf_sv -> DummyMostFrequent...\n",
      "2018-12-03 16:50:09,690 [INFO] [Validate]: F1 Scores\n",
      "/Users/jesse/anaconda3/envs/idp/lib/python3.6/site-packages/sklearn/metrics/classification.py:1143: UndefinedMetricWarning: F-score is ill-defined and being set to 0.0 in labels with no predicted samples.\n",
      "  'precision', 'predicted', average, warn_for)\n",
      "2018-12-03 16:50:09,697 [INFO]   location_traffic_convenience            \t0.2197\n",
      "2018-12-03 16:50:09,704 [INFO]   location_distance_from_business_district\t0.2226\n",
      "2018-12-03 16:50:09,709 [INFO]   location_easy_to_find                   \t0.2172\n",
      "2018-12-03 16:50:09,716 [INFO]   service_wait_time                       \t0.2344\n",
      "2018-12-03 16:50:09,722 [INFO]   service_waiters_attitude                \t0.1427\n",
      "2018-12-03 16:50:09,735 [INFO]   service_parking_convenience             \t0.2418\n",
      "2018-12-03 16:50:09,752 [INFO]   service_serving_speed                   \t0.2290\n",
      "2018-12-03 16:50:09,759 [INFO]   price_level                             \t0.1666\n",
      "2018-12-03 16:50:09,769 [INFO]   price_cost_effective                    \t0.2162\n",
      "2018-12-03 16:50:09,774 [INFO]   price_discount                          \t0.1909\n",
      "2018-12-03 16:50:09,779 [INFO]   environment_decoration                  \t0.1711\n",
      "2018-12-03 16:50:09,784 [INFO]   environment_noise                       \t0.2061\n",
      "2018-12-03 16:50:09,797 [INFO]   environment_space                       \t0.1938\n",
      "2018-12-03 16:50:09,805 [INFO]   environment_cleaness                    \t0.1951\n",
      "2018-12-03 16:50:09,813 [INFO]   dish_portion                            \t0.1755\n",
      "2018-12-03 16:50:09,820 [INFO]   dish_taste                              \t0.1717\n",
      "2018-12-03 16:50:09,825 [INFO]   dish_look                               \t0.2088\n",
      "2018-12-03 16:50:09,830 [INFO]   dish_recommendation                     \t0.2231\n",
      "2018-12-03 16:50:09,835 [INFO]   others_overall_experience               \t0.2009\n",
      "2018-12-03 16:50:09,841 [INFO]   others_willing_to_consume_again         \t0.1920\n",
      "2018-12-03 16:50:09,843 [INFO] ---------------------------------------------------\n",
      "2018-12-03 16:50:09,848 [INFO] 【tfidf_sv -> DummyMostFrequent】: 0.2010\n",
      "2018-12-03 16:50:09,849 [INFO] ---------------------------------------------------\n",
      "2018-12-03 16:50:09,851 [INFO] \n",
      "2018-12-03 16:50:09,853 [INFO] ============ Feature Model: tfidf ============\n",
      "2018-12-03 16:50:09,854 [INFO] \n",
      "2018-12-03 16:50:09,855 [INFO] Train for tfidf -> MultinomialNB...\n",
      "2018-12-03 16:50:09,857 [INFO]   tfidf: fit_transform use cache.\n",
      "2018-12-03 16:50:12,214 [INFO]   tfidf: transform use cache.\n",
      "2018-12-03 16:50:12,403 [INFO] [Validate]: F1 Scores\n",
      "/Users/jesse/anaconda3/envs/idp/lib/python3.6/site-packages/sklearn/metrics/classification.py:1143: UndefinedMetricWarning: F-score is ill-defined and being set to 0.0 in labels with no predicted samples.\n",
      "  'precision', 'predicted', average, warn_for)\n",
      "2018-12-03 16:50:12,409 [INFO]   location_traffic_convenience            \t0.3763\n",
      "2018-12-03 16:50:12,421 [INFO]   location_distance_from_business_district\t0.2415\n",
      "2018-12-03 16:50:12,429 [INFO]   location_easy_to_find                   \t0.2845\n",
      "2018-12-03 16:50:12,434 [INFO]   service_wait_time                       \t0.2519\n",
      "2018-12-03 16:50:12,439 [INFO]   service_waiters_attitude                \t0.5213\n",
      "2018-12-03 16:50:12,443 [INFO]   service_parking_convenience             \t0.2489\n",
      "2018-12-03 16:50:12,453 [INFO]   service_serving_speed                   \t0.2727\n",
      "2018-12-03 16:50:12,462 [INFO]   price_level                             \t0.3160\n",
      "2018-12-03 16:50:12,467 [INFO]   price_cost_effective                    \t0.2302\n",
      "2018-12-03 16:50:12,474 [INFO]   price_discount                          \t0.3588\n",
      "2018-12-03 16:50:12,482 [INFO]   environment_decoration                  \t0.3639\n",
      "2018-12-03 16:50:12,488 [INFO]   environment_noise                       \t0.2549\n",
      "2018-12-03 16:50:12,493 [INFO]   environment_space                       \t0.2445\n",
      "2018-12-03 16:50:12,507 [INFO]   environment_cleaness                    \t0.2951\n",
      "2018-12-03 16:50:12,512 [INFO]   dish_portion                            \t0.2682\n",
      "2018-12-03 16:50:12,518 [INFO]   dish_taste                              \t0.4247\n",
      "2018-12-03 16:50:12,526 [INFO]   dish_look                               \t0.2540\n",
      "2018-12-03 16:50:12,532 [INFO]   dish_recommendation                     \t0.2284\n",
      "2018-12-03 16:50:12,537 [INFO]   others_overall_experience               \t0.3886\n",
      "2018-12-03 16:50:12,542 [INFO]   others_willing_to_consume_again         \t0.3101\n",
      "2018-12-03 16:50:12,543 [INFO] ---------------------------------------------------\n",
      "2018-12-03 16:50:12,544 [INFO] 【tfidf -> MultinomialNB】: 0.3067\n",
      "2018-12-03 16:50:12,551 [INFO] ---------------------------------------------------\n",
      "2018-12-03 16:50:12,552 [INFO] Train for tfidf -> ComplementNB...\n",
      "2018-12-03 16:50:12,557 [INFO]   tfidf: fit_transform use cache.\n",
      "2018-12-03 16:50:14,329 [INFO]   tfidf: transform use cache.\n",
      "2018-12-03 16:50:14,557 [INFO] [Validate]: F1 Scores\n",
      "/Users/jesse/anaconda3/envs/idp/lib/python3.6/site-packages/sklearn/metrics/classification.py:1143: UndefinedMetricWarning: F-score is ill-defined and being set to 0.0 in labels with no predicted samples.\n",
      "  'precision', 'predicted', average, warn_for)\n",
      "2018-12-03 16:50:14,571 [INFO]   location_traffic_convenience            \t0.3790\n",
      "2018-12-03 16:50:14,589 [INFO]   location_distance_from_business_district\t0.3209\n",
      "2018-12-03 16:50:14,600 [INFO]   location_easy_to_find                   \t0.3863\n",
      "2018-12-03 16:50:14,608 [INFO]   service_wait_time                       \t0.3885\n",
      "2018-12-03 16:50:14,616 [INFO]   service_waiters_attitude                \t0.5216\n",
      "2018-12-03 16:50:14,621 [INFO]   service_parking_convenience             \t0.2864\n",
      "2018-12-03 16:50:14,626 [INFO]   service_serving_speed                   \t0.4083\n",
      "2018-12-03 16:50:14,632 [INFO]   price_level                             \t0.5360\n",
      "2018-12-03 16:50:14,638 [INFO]   price_cost_effective                    \t0.4076\n",
      "2018-12-03 16:50:14,647 [INFO]   price_discount                          \t0.4807\n",
      "2018-12-03 16:50:14,657 [INFO]   environment_decoration                  \t0.4218\n"
     ]
    },
    {
     "name": "stderr",
     "output_type": "stream",
     "text": [
      "2018-12-03 16:50:14,664 [INFO]   environment_noise                       \t0.4714\n",
      "2018-12-03 16:50:14,670 [INFO]   environment_space                       \t0.4599\n",
      "2018-12-03 16:50:14,675 [INFO]   environment_cleaness                    \t0.4898\n",
      "2018-12-03 16:50:14,682 [INFO]   dish_portion                            \t0.4125\n",
      "2018-12-03 16:50:14,687 [INFO]   dish_taste                              \t0.4958\n",
      "2018-12-03 16:50:14,693 [INFO]   dish_look                               \t0.3629\n",
      "2018-12-03 16:50:14,699 [INFO]   dish_recommendation                     \t0.3217\n",
      "2018-12-03 16:50:14,705 [INFO]   others_overall_experience               \t0.4576\n",
      "2018-12-03 16:50:14,710 [INFO]   others_willing_to_consume_again         \t0.4379\n",
      "2018-12-03 16:50:14,711 [INFO] ---------------------------------------------------\n",
      "2018-12-03 16:50:14,712 [INFO] 【tfidf -> ComplementNB】: 0.4223\n",
      "2018-12-03 16:50:14,714 [INFO] ---------------------------------------------------\n",
      "2018-12-03 16:50:14,715 [INFO] \n",
      "2018-12-03 16:50:14,717 [INFO] ============ Feature Model: tfidf_sv ============\n",
      "2018-12-03 16:50:14,720 [INFO] \n",
      "2018-12-03 16:50:14,722 [INFO] Train for tfidf_sv -> MultinomialNB...\n",
      "2018-12-03 16:50:14,727 [INFO]   tfidf_sv: fit_transform use cache.\n",
      "2018-12-03 16:50:16,421 [INFO]   tfidf_sv: transform use cache.\n",
      "2018-12-03 16:50:16,660 [INFO] [Validate]: F1 Scores\n",
      "/Users/jesse/anaconda3/envs/idp/lib/python3.6/site-packages/sklearn/metrics/classification.py:1143: UndefinedMetricWarning: F-score is ill-defined and being set to 0.0 in labels with no predicted samples.\n",
      "  'precision', 'predicted', average, warn_for)\n",
      "2018-12-03 16:50:16,666 [INFO]   location_traffic_convenience            \t0.3804\n",
      "2018-12-03 16:50:16,671 [INFO]   location_distance_from_business_district\t0.2360\n",
      "2018-12-03 16:50:16,676 [INFO]   location_easy_to_find                   \t0.2702\n",
      "2018-12-03 16:50:16,681 [INFO]   service_wait_time                       \t0.2476\n",
      "2018-12-03 16:50:16,686 [INFO]   service_waiters_attitude                \t0.4918\n",
      "2018-12-03 16:50:16,691 [INFO]   service_parking_convenience             \t0.2454\n",
      "2018-12-03 16:50:16,699 [INFO]   service_serving_speed                   \t0.2566\n",
      "2018-12-03 16:50:16,707 [INFO]   price_level                             \t0.2614\n",
      "2018-12-03 16:50:16,712 [INFO]   price_cost_effective                    \t0.2189\n",
      "2018-12-03 16:50:16,724 [INFO]   price_discount                          \t0.3316\n",
      "2018-12-03 16:50:16,731 [INFO]   environment_decoration                  \t0.3555\n",
      "2018-12-03 16:50:16,741 [INFO]   environment_noise                       \t0.2333\n",
      "2018-12-03 16:50:16,748 [INFO]   environment_space                       \t0.2324\n",
      "2018-12-03 16:50:16,761 [INFO]   environment_cleaness                    \t0.2775\n",
      "2018-12-03 16:50:16,769 [INFO]   dish_portion                            \t0.2566\n",
      "2018-12-03 16:50:16,783 [INFO]   dish_taste                              \t0.3885\n",
      "2018-12-03 16:50:16,794 [INFO]   dish_look                               \t0.2430\n",
      "2018-12-03 16:50:16,805 [INFO]   dish_recommendation                     \t0.2249\n",
      "2018-12-03 16:50:16,813 [INFO]   others_overall_experience               \t0.3437\n",
      "2018-12-03 16:50:16,821 [INFO]   others_willing_to_consume_again         \t0.2607\n",
      "2018-12-03 16:50:16,823 [INFO] ---------------------------------------------------\n",
      "2018-12-03 16:50:16,824 [INFO] 【tfidf_sv -> MultinomialNB】: 0.2878\n",
      "2018-12-03 16:50:16,826 [INFO] ---------------------------------------------------\n",
      "2018-12-03 16:50:16,829 [INFO] Train for tfidf_sv -> ComplementNB...\n",
      "2018-12-03 16:50:16,833 [INFO]   tfidf_sv: fit_transform use cache.\n",
      "2018-12-03 16:50:18,300 [INFO]   tfidf_sv: transform use cache.\n",
      "2018-12-03 16:50:18,494 [INFO] [Validate]: F1 Scores\n",
      "/Users/jesse/anaconda3/envs/idp/lib/python3.6/site-packages/sklearn/metrics/classification.py:1143: UndefinedMetricWarning: F-score is ill-defined and being set to 0.0 in labels with no predicted samples.\n",
      "  'precision', 'predicted', average, warn_for)\n",
      "2018-12-03 16:50:18,499 [INFO]   location_traffic_convenience            \t0.3888\n",
      "2018-12-03 16:50:18,507 [INFO]   location_distance_from_business_district\t0.3178\n",
      "2018-12-03 16:50:18,517 [INFO]   location_easy_to_find                   \t0.3830\n",
      "2018-12-03 16:50:18,523 [INFO]   service_wait_time                       \t0.3787\n",
      "2018-12-03 16:50:18,531 [INFO]   service_waiters_attitude                \t0.4974\n",
      "2018-12-03 16:50:18,540 [INFO]   service_parking_convenience             \t0.2877\n",
      "2018-12-03 16:50:18,550 [INFO]   service_serving_speed                   \t0.4070\n",
      "2018-12-03 16:50:18,557 [INFO]   price_level                             \t0.4992\n",
      "2018-12-03 16:50:18,568 [INFO]   price_cost_effective                    \t0.3875\n",
      "2018-12-03 16:50:18,582 [INFO]   price_discount                          \t0.4737\n",
      "2018-12-03 16:50:18,597 [INFO]   environment_decoration                  \t0.4207\n",
      "2018-12-03 16:50:18,607 [INFO]   environment_noise                       \t0.4354\n",
      "2018-12-03 16:50:18,633 [INFO]   environment_space                       \t0.4673\n",
      "2018-12-03 16:50:18,640 [INFO]   environment_cleaness                    \t0.4844\n",
      "2018-12-03 16:50:18,656 [INFO]   dish_portion                            \t0.4055\n",
      "2018-12-03 16:50:18,674 [INFO]   dish_taste                              \t0.4978\n",
      "2018-12-03 16:50:18,688 [INFO]   dish_look                               \t0.3577\n",
      "2018-12-03 16:50:18,702 [INFO]   dish_recommendation                     \t0.3178\n",
      "2018-12-03 16:50:18,710 [INFO]   others_overall_experience               \t0.4471\n",
      "2018-12-03 16:50:18,719 [INFO]   others_willing_to_consume_again         \t0.4303\n",
      "2018-12-03 16:50:18,725 [INFO] ---------------------------------------------------\n",
      "2018-12-03 16:50:18,726 [INFO] 【tfidf_sv -> ComplementNB】: 0.4142\n",
      "2018-12-03 16:50:18,730 [INFO] ---------------------------------------------------\n",
      "2018-12-03 16:50:18,733 [INFO] \n",
      "2018-12-03 16:50:18,736 [INFO] ============ Feature Model: lsa_200 ============\n",
      "2018-12-03 16:50:18,738 [INFO] \n",
      "2018-12-03 16:50:18,749 [INFO] Train for lsa_200 -> LDA...\n",
      "2018-12-03 16:50:18,754 [INFO]   lsa_200: fit_transform use cache.\n",
      "2018-12-03 16:52:29,501 [INFO]   lsa_200: transform use cache.\n",
      "2018-12-03 16:52:29,669 [INFO] [Validate]: F1 Scores\n",
      "2018-12-03 16:52:29,674 [INFO]   location_traffic_convenience            \t0.4216\n",
      "/Users/jesse/anaconda3/envs/idp/lib/python3.6/site-packages/sklearn/metrics/classification.py:1143: UndefinedMetricWarning: F-score is ill-defined and being set to 0.0 in labels with no predicted samples.\n",
      "  'precision', 'predicted', average, warn_for)\n",
      "2018-12-03 16:52:29,678 [INFO]   location_distance_from_business_district\t0.3212\n",
      "2018-12-03 16:52:29,683 [INFO]   location_easy_to_find                   \t0.3737\n",
      "2018-12-03 16:52:29,688 [INFO]   service_wait_time                       \t0.4443\n",
      "2018-12-03 16:52:29,693 [INFO]   service_waiters_attitude                \t0.5768\n",
      "2018-12-03 16:52:29,697 [INFO]   service_parking_convenience             \t0.4081\n",
      "2018-12-03 16:52:29,703 [INFO]   service_serving_speed                   \t0.4231\n",
      "2018-12-03 16:52:29,708 [INFO]   price_level                             \t0.4622\n",
      "2018-12-03 16:52:29,712 [INFO]   price_cost_effective                    \t0.4542\n",
      "2018-12-03 16:52:29,724 [INFO]   price_discount                          \t0.5256\n",
      "2018-12-03 16:52:29,732 [INFO]   environment_decoration                  \t0.4345\n",
      "2018-12-03 16:52:29,738 [INFO]   environment_noise                       \t0.4134\n",
      "2018-12-03 16:52:29,744 [INFO]   environment_space                       \t0.3997\n",
      "2018-12-03 16:52:29,749 [INFO]   environment_cleaness                    \t0.4769\n",
      "2018-12-03 16:52:29,756 [INFO]   dish_portion                            \t0.3627\n",
      "2018-12-03 16:52:29,761 [INFO]   dish_taste                              \t0.5287\n",
      "2018-12-03 16:52:29,768 [INFO]   dish_look                               \t0.3336\n",
      "2018-12-03 16:52:29,771 [INFO]   dish_recommendation                     \t0.3894\n",
      "2018-12-03 16:52:29,779 [INFO]   others_overall_experience               \t0.4841\n",
      "2018-12-03 16:52:29,791 [INFO]   others_willing_to_consume_again         \t0.4838\n",
      "2018-12-03 16:52:29,793 [INFO] ---------------------------------------------------\n",
      "2018-12-03 16:52:29,795 [INFO] 【lsa_200 -> LDA】: 0.4359\n"
     ]
    },
    {
     "name": "stderr",
     "output_type": "stream",
     "text": [
      "2018-12-03 16:52:29,797 [INFO] ---------------------------------------------------\n",
      "2018-12-03 16:52:29,803 [INFO] Train for lsa_200 -> LinearSVC...\n",
      "2018-12-03 16:52:29,808 [INFO]   lsa_200: fit_transform use cache.\n",
      "2018-12-03 16:59:03,925 [INFO]   lsa_200: transform use cache.\n",
      "2018-12-03 16:59:04,081 [INFO] [Validate]: F1 Scores\n",
      "/Users/jesse/anaconda3/envs/idp/lib/python3.6/site-packages/sklearn/metrics/classification.py:1143: UndefinedMetricWarning: F-score is ill-defined and being set to 0.0 in labels with no predicted samples.\n",
      "  'precision', 'predicted', average, warn_for)\n",
      "2018-12-03 16:59:04,096 [INFO]   location_traffic_convenience            \t0.4250\n",
      "2018-12-03 16:59:04,103 [INFO]   location_distance_from_business_district\t0.3062\n",
      "2018-12-03 16:59:04,110 [INFO]   location_easy_to_find                   \t0.3590\n",
      "2018-12-03 16:59:04,114 [INFO]   service_wait_time                       \t0.3420\n",
      "2018-12-03 16:59:04,119 [INFO]   service_waiters_attitude                \t0.5445\n",
      "2018-12-03 16:59:04,123 [INFO]   service_parking_convenience             \t0.3114\n",
      "2018-12-03 16:59:04,132 [INFO]   service_serving_speed                   \t0.3820\n",
      "2018-12-03 16:59:04,136 [INFO]   price_level                             \t0.4436\n",
      "2018-12-03 16:59:04,141 [INFO]   price_cost_effective                    \t0.3414\n",
      "2018-12-03 16:59:04,145 [INFO]   price_discount                          \t0.4749\n",
      "2018-12-03 16:59:04,150 [INFO]   environment_decoration                  \t0.3987\n",
      "2018-12-03 16:59:04,154 [INFO]   environment_noise                       \t0.3544\n",
      "2018-12-03 16:59:04,158 [INFO]   environment_space                       \t0.3393\n",
      "2018-12-03 16:59:04,163 [INFO]   environment_cleaness                    \t0.3879\n",
      "2018-12-03 16:59:04,168 [INFO]   dish_portion                            \t0.3147\n",
      "2018-12-03 16:59:04,171 [INFO]   dish_taste                              \t0.4718\n",
      "2018-12-03 16:59:04,175 [INFO]   dish_look                               \t0.2714\n",
      "2018-12-03 16:59:04,179 [INFO]   dish_recommendation                     \t0.3181\n",
      "2018-12-03 16:59:04,184 [INFO]   others_overall_experience               \t0.4729\n",
      "2018-12-03 16:59:04,188 [INFO]   others_willing_to_consume_again         \t0.4286\n",
      "2018-12-03 16:59:04,189 [INFO] ---------------------------------------------------\n",
      "2018-12-03 16:59:04,190 [INFO] 【lsa_200 -> LinearSVC】: 0.3844\n",
      "2018-12-03 16:59:04,191 [INFO] ---------------------------------------------------\n",
      "2018-12-03 16:59:04,193 [INFO] Train for lsa_200 -> Logistic...\n",
      "2018-12-03 16:59:04,197 [INFO]   lsa_200: fit_transform use cache.\n",
      "2018-12-03 17:30:57,325 [INFO]   lsa_200: transform use cache.\n",
      "2018-12-03 17:30:57,525 [INFO] [Validate]: F1 Scores\n",
      "/Users/jesse/anaconda3/envs/idp/lib/python3.6/site-packages/sklearn/metrics/classification.py:1143: UndefinedMetricWarning: F-score is ill-defined and being set to 0.0 in labels with no predicted samples.\n",
      "  'precision', 'predicted', average, warn_for)\n",
      "2018-12-03 17:30:57,533 [INFO]   location_traffic_convenience            \t0.4261\n",
      "2018-12-03 17:30:57,538 [INFO]   location_distance_from_business_district\t0.3159\n",
      "2018-12-03 17:30:57,544 [INFO]   location_easy_to_find                   \t0.3668\n",
      "2018-12-03 17:30:57,549 [INFO]   service_wait_time                       \t0.3951\n",
      "2018-12-03 17:30:57,555 [INFO]   service_waiters_attitude                \t0.5837\n",
      "2018-12-03 17:30:57,559 [INFO]   service_parking_convenience             \t0.3437\n",
      "2018-12-03 17:30:57,570 [INFO]   service_serving_speed                   \t0.4252\n",
      "2018-12-03 17:30:57,579 [INFO]   price_level                             \t0.4733\n",
      "2018-12-03 17:30:57,585 [INFO]   price_cost_effective                    \t0.4055\n",
      "2018-12-03 17:30:57,592 [INFO]   price_discount                          \t0.4984\n",
      "2018-12-03 17:30:57,600 [INFO]   environment_decoration                  \t0.4200\n",
      "2018-12-03 17:30:57,610 [INFO]   environment_noise                       \t0.3856\n",
      "2018-12-03 17:30:57,621 [INFO]   environment_space                       \t0.3739\n",
      "2018-12-03 17:30:57,628 [INFO]   environment_cleaness                    \t0.4509\n",
      "2018-12-03 17:30:57,635 [INFO]   dish_portion                            \t0.3538\n",
      "2018-12-03 17:30:57,641 [INFO]   dish_taste                              \t0.5521\n",
      "2018-12-03 17:30:57,649 [INFO]   dish_look                               \t0.2931\n",
      "2018-12-03 17:30:57,654 [INFO]   dish_recommendation                     \t0.3407\n",
      "2018-12-03 17:30:57,660 [INFO]   others_overall_experience               \t0.4873\n",
      "2018-12-03 17:30:57,665 [INFO]   others_willing_to_consume_again         \t0.4766\n",
      "2018-12-03 17:30:57,667 [INFO] ---------------------------------------------------\n",
      "2018-12-03 17:30:57,668 [INFO] 【lsa_200 -> Logistic】: 0.4184\n",
      "2018-12-03 17:30:57,670 [INFO] ---------------------------------------------------\n",
      "2018-12-03 17:30:57,671 [INFO] Train for lsa_200 -> Ridge...\n",
      "2018-12-03 17:30:57,681 [INFO]   lsa_200: fit_transform use cache.\n",
      "2018-12-03 17:33:04,422 [INFO]   lsa_200: transform use cache.\n",
      "2018-12-03 17:33:04,609 [INFO] [Validate]: F1 Scores\n",
      "/Users/jesse/anaconda3/envs/idp/lib/python3.6/site-packages/sklearn/metrics/classification.py:1143: UndefinedMetricWarning: F-score is ill-defined and being set to 0.0 in labels with no predicted samples.\n",
      "  'precision', 'predicted', average, warn_for)\n",
      "2018-12-03 17:33:04,615 [INFO]   location_traffic_convenience            \t0.4186\n",
      "2018-12-03 17:33:04,620 [INFO]   location_distance_from_business_district\t0.3008\n",
      "2018-12-03 17:33:04,625 [INFO]   location_easy_to_find                   \t0.3533\n",
      "2018-12-03 17:33:04,629 [INFO]   service_wait_time                       \t0.3021\n",
      "2018-12-03 17:33:04,635 [INFO]   service_waiters_attitude                \t0.5043\n",
      "2018-12-03 17:33:04,640 [INFO]   service_parking_convenience             \t0.2678\n",
      "2018-12-03 17:33:04,644 [INFO]   service_serving_speed                   \t0.3549\n",
      "2018-12-03 17:33:04,650 [INFO]   price_level                             \t0.4099\n",
      "2018-12-03 17:33:04,658 [INFO]   price_cost_effective                    \t0.3276\n",
      "2018-12-03 17:33:04,665 [INFO]   price_discount                          \t0.4557\n",
      "2018-12-03 17:33:04,672 [INFO]   environment_decoration                  \t0.3894\n",
      "2018-12-03 17:33:04,680 [INFO]   environment_noise                       \t0.3493\n",
      "2018-12-03 17:33:04,686 [INFO]   environment_space                       \t0.3355\n",
      "2018-12-03 17:33:04,692 [INFO]   environment_cleaness                    \t0.3730\n",
      "2018-12-03 17:33:04,697 [INFO]   dish_portion                            \t0.3092\n",
      "2018-12-03 17:33:04,702 [INFO]   dish_taste                              \t0.3920\n",
      "2018-12-03 17:33:04,707 [INFO]   dish_look                               \t0.2676\n",
      "2018-12-03 17:33:04,714 [INFO]   dish_recommendation                     \t0.3123\n",
      "2018-12-03 17:33:04,723 [INFO]   others_overall_experience               \t0.4555\n",
      "2018-12-03 17:33:04,730 [INFO]   others_willing_to_consume_again         \t0.3851\n",
      "2018-12-03 17:33:04,732 [INFO] ---------------------------------------------------\n",
      "2018-12-03 17:33:04,733 [INFO] 【lsa_200 -> Ridge】: 0.3632\n",
      "2018-12-03 17:33:04,734 [INFO] ---------------------------------------------------\n",
      "2018-12-03 17:33:04,735 [INFO] \n",
      "2018-12-03 17:33:04,737 [INFO] ============ Feature Model: lsa_500 ============\n",
      "2018-12-03 17:33:04,738 [INFO] \n",
      "2018-12-03 17:33:04,740 [INFO] Train for lsa_500 -> LDA...\n",
      "2018-12-03 17:33:04,742 [INFO]   lsa_500: fit_transform use cache.\n",
      "2018-12-03 17:38:28,814 [INFO]   lsa_500: transform use cache.\n",
      "2018-12-03 17:38:29,347 [INFO] [Validate]: F1 Scores\n",
      "2018-12-03 17:38:29,352 [INFO]   location_traffic_convenience            \t0.4358\n",
      "/Users/jesse/anaconda3/envs/idp/lib/python3.6/site-packages/sklearn/metrics/classification.py:1143: UndefinedMetricWarning: F-score is ill-defined and being set to 0.0 in labels with no predicted samples.\n",
      "  'precision', 'predicted', average, warn_for)\n",
      "2018-12-03 17:38:29,357 [INFO]   location_distance_from_business_district\t0.3453\n",
      "2018-12-03 17:38:29,362 [INFO]   location_easy_to_find                   \t0.4771\n",
      "2018-12-03 17:38:29,367 [INFO]   service_wait_time                       \t0.4949\n",
      "2018-12-03 17:38:29,373 [INFO]   service_waiters_attitude                \t0.6046\n",
      "2018-12-03 17:38:29,377 [INFO]   service_parking_convenience             \t0.5069\n"
     ]
    },
    {
     "name": "stderr",
     "output_type": "stream",
     "text": [
      "2018-12-03 17:38:29,382 [INFO]   service_serving_speed                   \t0.4650\n",
      "2018-12-03 17:38:29,387 [INFO]   price_level                             \t0.5152\n",
      "2018-12-03 17:38:29,391 [INFO]   price_cost_effective                    \t0.5229\n",
      "2018-12-03 17:38:29,398 [INFO]   price_discount                          \t0.5452\n",
      "2018-12-03 17:38:29,414 [INFO]   environment_decoration                  \t0.4927\n",
      "2018-12-03 17:38:29,422 [INFO]   environment_noise                       \t0.4709\n",
      "2018-12-03 17:38:29,429 [INFO]   environment_space                       \t0.4612\n",
      "2018-12-03 17:38:29,438 [INFO]   environment_cleaness                    \t0.5288\n",
      "2018-12-03 17:38:29,444 [INFO]   dish_portion                            \t0.4190\n",
      "2018-12-03 17:38:29,449 [INFO]   dish_taste                              \t0.5475\n",
      "2018-12-03 17:38:29,454 [INFO]   dish_look                               \t0.3684\n",
      "2018-12-03 17:38:29,458 [INFO]   dish_recommendation                     \t0.4078\n",
      "2018-12-03 17:38:29,462 [INFO]   others_overall_experience               \t0.4949\n",
      "2018-12-03 17:38:29,467 [INFO]   others_willing_to_consume_again         \t0.5107\n",
      "2018-12-03 17:38:29,468 [INFO] ---------------------------------------------------\n",
      "2018-12-03 17:38:29,470 [INFO] 【lsa_500 -> LDA】: 0.4808\n",
      "2018-12-03 17:38:29,471 [INFO] ---------------------------------------------------\n",
      "2018-12-03 17:38:29,472 [INFO] Train for lsa_500 -> LinearSVC...\n",
      "2018-12-03 17:38:29,473 [INFO]   lsa_500: fit_transform use cache.\n",
      "2018-12-03 17:47:44,583 [INFO]   lsa_500: transform use cache.\n",
      "2018-12-03 17:47:44,904 [INFO] [Validate]: F1 Scores\n",
      "/Users/jesse/anaconda3/envs/idp/lib/python3.6/site-packages/sklearn/metrics/classification.py:1143: UndefinedMetricWarning: F-score is ill-defined and being set to 0.0 in labels with no predicted samples.\n",
      "  'precision', 'predicted', average, warn_for)\n",
      "2018-12-03 17:47:44,908 [INFO]   location_traffic_convenience            \t0.4324\n",
      "2018-12-03 17:47:44,914 [INFO]   location_distance_from_business_district\t0.3406\n",
      "2018-12-03 17:47:44,919 [INFO]   location_easy_to_find                   \t0.4177\n",
      "2018-12-03 17:47:44,923 [INFO]   service_wait_time                       \t0.4071\n",
      "2018-12-03 17:47:44,928 [INFO]   service_waiters_attitude                \t0.5750\n",
      "2018-12-03 17:47:44,932 [INFO]   service_parking_convenience             \t0.3872\n",
      "2018-12-03 17:47:44,936 [INFO]   service_serving_speed                   \t0.4166\n",
      "2018-12-03 17:47:44,941 [INFO]   price_level                             \t0.5025\n",
      "2018-12-03 17:47:44,945 [INFO]   price_cost_effective                    \t0.4042\n",
      "2018-12-03 17:47:44,949 [INFO]   price_discount                          \t0.5002\n",
      "2018-12-03 17:47:44,954 [INFO]   environment_decoration                  \t0.4159\n",
      "2018-12-03 17:47:44,958 [INFO]   environment_noise                       \t0.3705\n",
      "2018-12-03 17:47:44,962 [INFO]   environment_space                       \t0.3856\n",
      "2018-12-03 17:47:44,967 [INFO]   environment_cleaness                    \t0.4131\n",
      "2018-12-03 17:47:44,973 [INFO]   dish_portion                            \t0.3602\n",
      "2018-12-03 17:47:44,978 [INFO]   dish_taste                              \t0.5100\n",
      "2018-12-03 17:47:44,982 [INFO]   dish_look                               \t0.3090\n",
      "2018-12-03 17:47:44,987 [INFO]   dish_recommendation                     \t0.3219\n",
      "2018-12-03 17:47:44,993 [INFO]   others_overall_experience               \t0.4851\n",
      "2018-12-03 17:47:44,999 [INFO]   others_willing_to_consume_again         \t0.4600\n",
      "2018-12-03 17:47:45,000 [INFO] ---------------------------------------------------\n",
      "2018-12-03 17:47:45,001 [INFO] 【lsa_500 -> LinearSVC】: 0.4207\n",
      "2018-12-03 17:47:45,002 [INFO] ---------------------------------------------------\n",
      "2018-12-03 17:47:45,003 [INFO] Train for lsa_500 -> Logistic...\n",
      "2018-12-03 17:47:45,007 [INFO]   lsa_500: fit_transform use cache.\n",
      "2018-12-03 18:03:10,028 [INFO]   lsa_500: transform use cache.\n",
      "2018-12-03 18:03:10,460 [INFO] [Validate]: F1 Scores\n",
      "/Users/jesse/anaconda3/envs/idp/lib/python3.6/site-packages/sklearn/metrics/classification.py:1143: UndefinedMetricWarning: F-score is ill-defined and being set to 0.0 in labels with no predicted samples.\n",
      "  'precision', 'predicted', average, warn_for)\n",
      "2018-12-03 18:03:10,471 [INFO]   location_traffic_convenience            \t0.4325\n",
      "2018-12-03 18:03:10,475 [INFO]   location_distance_from_business_district\t0.3425\n",
      "2018-12-03 18:03:10,481 [INFO]   location_easy_to_find                   \t0.4472\n",
      "2018-12-03 18:03:10,487 [INFO]   service_wait_time                       \t0.4491\n",
      "2018-12-03 18:03:10,493 [INFO]   service_waiters_attitude                \t0.6191\n",
      "2018-12-03 18:03:10,497 [INFO]   service_parking_convenience             \t0.4406\n",
      "2018-12-03 18:03:10,504 [INFO]   service_serving_speed                   \t0.4549\n",
      "2018-12-03 18:03:10,512 [INFO]   price_level                             \t0.5230\n",
      "2018-12-03 18:03:10,521 [INFO]   price_cost_effective                    \t0.4804\n",
      "2018-12-03 18:03:10,528 [INFO]   price_discount                          \t0.5191\n",
      "2018-12-03 18:03:10,534 [INFO]   environment_decoration                  \t0.4581\n",
      "2018-12-03 18:03:10,541 [INFO]   environment_noise                       \t0.4209\n",
      "2018-12-03 18:03:10,554 [INFO]   environment_space                       \t0.4323\n",
      "2018-12-03 18:03:10,563 [INFO]   environment_cleaness                    \t0.4837\n",
      "2018-12-03 18:03:10,570 [INFO]   dish_portion                            \t0.4050\n",
      "2018-12-03 18:03:10,576 [INFO]   dish_taste                              \t0.5655\n",
      "2018-12-03 18:03:10,580 [INFO]   dish_look                               \t0.3312\n",
      "2018-12-03 18:03:10,585 [INFO]   dish_recommendation                     \t0.3553\n",
      "2018-12-03 18:03:10,590 [INFO]   others_overall_experience               \t0.4983\n",
      "2018-12-03 18:03:10,603 [INFO]   others_willing_to_consume_again         \t0.4963\n",
      "2018-12-03 18:03:10,609 [INFO] ---------------------------------------------------\n",
      "2018-12-03 18:03:10,612 [INFO] 【lsa_500 -> Logistic】: 0.4577\n",
      "2018-12-03 18:03:10,613 [INFO] ---------------------------------------------------\n",
      "2018-12-03 18:03:10,615 [INFO] Train for lsa_500 -> Ridge...\n",
      "2018-12-03 18:03:10,623 [INFO]   lsa_500: fit_transform use cache.\n",
      "2018-12-03 18:09:37,464 [INFO]   lsa_500: transform use cache.\n",
      "2018-12-03 18:09:37,807 [INFO] [Validate]: F1 Scores\n",
      "/Users/jesse/anaconda3/envs/idp/lib/python3.6/site-packages/sklearn/metrics/classification.py:1143: UndefinedMetricWarning: F-score is ill-defined and being set to 0.0 in labels with no predicted samples.\n",
      "  'precision', 'predicted', average, warn_for)\n",
      "2018-12-03 18:09:37,815 [INFO]   location_traffic_convenience            \t0.4255\n",
      "2018-12-03 18:09:37,820 [INFO]   location_distance_from_business_district\t0.3288\n",
      "2018-12-03 18:09:37,827 [INFO]   location_easy_to_find                   \t0.4097\n",
      "2018-12-03 18:09:37,831 [INFO]   service_wait_time                       \t0.3784\n",
      "2018-12-03 18:09:37,836 [INFO]   service_waiters_attitude                \t0.5287\n",
      "2018-12-03 18:09:37,841 [INFO]   service_parking_convenience             \t0.3685\n",
      "2018-12-03 18:09:37,846 [INFO]   service_serving_speed                   \t0.3817\n",
      "2018-12-03 18:09:37,851 [INFO]   price_level                             \t0.4613\n",
      "2018-12-03 18:09:37,855 [INFO]   price_cost_effective                    \t0.3774\n",
      "2018-12-03 18:09:37,860 [INFO]   price_discount                          \t0.4740\n",
      "2018-12-03 18:09:37,865 [INFO]   environment_decoration                  \t0.4018\n",
      "2018-12-03 18:09:37,870 [INFO]   environment_noise                       \t0.3616\n",
      "2018-12-03 18:09:37,876 [INFO]   environment_space                       \t0.3692\n",
      "2018-12-03 18:09:37,883 [INFO]   environment_cleaness                    \t0.3804\n",
      "2018-12-03 18:09:37,891 [INFO]   dish_portion                            \t0.3425\n",
      "2018-12-03 18:09:37,897 [INFO]   dish_taste                              \t0.4377\n",
      "2018-12-03 18:09:37,901 [INFO]   dish_look                               \t0.3050\n",
      "2018-12-03 18:09:37,905 [INFO]   dish_recommendation                     \t0.3142\n",
      "2018-12-03 18:09:37,909 [INFO]   others_overall_experience               \t0.4656\n",
      "2018-12-03 18:09:37,913 [INFO]   others_willing_to_consume_again         \t0.4088\n",
      "2018-12-03 18:09:37,914 [INFO] ---------------------------------------------------\n"
     ]
    },
    {
     "name": "stderr",
     "output_type": "stream",
     "text": [
      "2018-12-03 18:09:37,915 [INFO] 【lsa_500 -> Ridge】: 0.3961\n",
      "2018-12-03 18:09:37,916 [INFO] ---------------------------------------------------\n",
      "2018-12-03 18:09:37,917 [INFO] \n",
      "2018-12-03 18:09:37,918 [INFO] ============ Feature Model: lsa_1k ============\n",
      "2018-12-03 18:09:37,919 [INFO] \n",
      "2018-12-03 18:09:37,920 [INFO] Train for lsa_1k -> LDA...\n",
      "2018-12-03 18:09:37,923 [INFO]   lsa_1k: fit_transform use cache.\n",
      "2018-12-03 18:23:56,847 [INFO]   lsa_1k: transform use cache.\n",
      "2018-12-03 18:23:57,989 [INFO] [Validate]: F1 Scores\n",
      "2018-12-03 18:23:58,003 [INFO]   location_traffic_convenience            \t0.4545\n",
      "2018-12-03 18:23:58,009 [INFO]   location_distance_from_business_district\t0.3669\n",
      "2018-12-03 18:23:58,017 [INFO]   location_easy_to_find                   \t0.5094\n",
      "2018-12-03 18:23:58,023 [INFO]   service_wait_time                       \t0.5062\n",
      "2018-12-03 18:23:58,030 [INFO]   service_waiters_attitude                \t0.6195\n",
      "2018-12-03 18:23:58,037 [INFO]   service_parking_convenience             \t0.5359\n",
      "2018-12-03 18:23:58,042 [INFO]   service_serving_speed                   \t0.4857\n",
      "2018-12-03 18:23:58,049 [INFO]   price_level                             \t0.5461\n",
      "2018-12-03 18:23:58,053 [INFO]   price_cost_effective                    \t0.5414\n",
      "2018-12-03 18:23:58,060 [INFO]   price_discount                          \t0.5609\n",
      "2018-12-03 18:23:58,065 [INFO]   environment_decoration                  \t0.5347\n",
      "2018-12-03 18:23:58,070 [INFO]   environment_noise                       \t0.5274\n",
      "2018-12-03 18:23:58,075 [INFO]   environment_space                       \t0.5053\n",
      "2018-12-03 18:23:58,079 [INFO]   environment_cleaness                    \t0.5546\n",
      "2018-12-03 18:23:58,083 [INFO]   dish_portion                            \t0.4532\n",
      "2018-12-03 18:23:58,088 [INFO]   dish_taste                              \t0.5500\n",
      "2018-12-03 18:23:58,093 [INFO]   dish_look                               \t0.4172\n",
      "2018-12-03 18:23:58,097 [INFO]   dish_recommendation                     \t0.4194\n",
      "/Users/jesse/anaconda3/envs/idp/lib/python3.6/site-packages/sklearn/metrics/classification.py:1143: UndefinedMetricWarning: F-score is ill-defined and being set to 0.0 in labels with no predicted samples.\n",
      "  'precision', 'predicted', average, warn_for)\n",
      "2018-12-03 18:23:58,102 [INFO]   others_overall_experience               \t0.5052\n",
      "2018-12-03 18:23:58,106 [INFO]   others_willing_to_consume_again         \t0.5123\n",
      "2018-12-03 18:23:58,107 [INFO] ---------------------------------------------------\n",
      "2018-12-03 18:23:58,109 [INFO] 【lsa_1k -> LDA】: 0.5053\n",
      "2018-12-03 18:23:58,110 [INFO] ---------------------------------------------------\n",
      "2018-12-03 18:23:58,112 [INFO] Train for lsa_1k -> LinearSVC...\n",
      "2018-12-03 18:23:58,116 [INFO]   lsa_1k: fit_transform use cache.\n"
     ]
    }
   ],
   "source": [
    "from IPython.display import clear_output\n",
    "\n",
    "conf = {\n",
    "    'fm_cache': fm,\n",
    "    'X_train': X_train,\n",
    "    'X_test': X_test,\n",
    "    'y_train': y_train,\n",
    "    'y_test': y_test,\n",
    "    'results': {\n",
    "        'models': {},\n",
    "        'avg': all_avg_scores,\n",
    "        'all': all_scores\n",
    "    }\n",
    "}\n",
    "\n",
    "# We'd only need to run the dummy models on one feature model,\n",
    "# as they do not care about the features\n",
    "fm_cross_check(\n",
    "    ['tfidf_sv'],\n",
    "    ['DummyStratified', 'DummyMostFrequent'],\n",
    "    model_cls=Dummy, **conf)\n",
    "\n",
    "# Naive Bayes models cannot handle negative values, so we pass\n",
    "# in only tfidf features\n",
    "fm_cross_check(\n",
    "    ['tfidf', 'tfidf_sv'],\n",
    "    ['MultinomialNB', 'ComplementNB'], **conf)\n",
    "\n",
    "# All other models can run on many classifiers\n",
    "results = fm_cross_check(\n",
    "    ['lsa_200',\n",
    "     'lsa_500',\n",
    "     'lsa_1k',\n",
    "     'tfidf_sv_dense',\n",
    "     'lsa_200_sv',\n",
    "     'lsa_500_sv',\n",
    "    ],\n",
    "    ['LDA', 'LinearSVC', 'Logistic', 'Ridge'], **conf)\n",
    "\n",
    "clear_output()"
   ]
  },
  {
   "cell_type": "code",
   "execution_count": null,
   "metadata": {},
   "outputs": [],
   "source": [
    "rows = {}\n",
    "for fm_name in all_scores:\n",
    "    for clf_name in all_scores[fm_name]:\n",
    "        key = f'{fm_name}.{clf_name}'\n",
    "        rows[key] = [all_avg_scores[fm_name][clf_name],\n",
    "                     *all_scores[fm_name][clf_name]]\n",
    "df = pd.DataFrame(rows)\n",
    "df.index = ['average', *y_train.columns]\n",
    "df = df.T.sort_values('average', ascending=False)\n",
    "df"
   ]
  },
  {
   "cell_type": "code",
   "execution_count": null,
   "metadata": {},
   "outputs": [],
   "source": [
    "import matplotlib.pyplot as plt\n",
    "\n",
    "df.T.drop(['average']).boxplot(\n",
    "    figsize=(18, 6), rot=90)\n",
    "\n",
    "plt.show()"
   ]
  },
  {
   "cell_type": "markdown",
   "metadata": {},
   "source": [
    "Let's save the models for future use."
   ]
  },
  {
   "cell_type": "code",
   "execution_count": null,
   "metadata": {
    "scrolled": false
   },
   "outputs": [],
   "source": [
    "from fgclassifier.utils import save_model\n",
    "\n",
    "def clear_cache(model):\n",
    "    if hasattr(model, 'steps'):\n",
    "        for (name, step) in model.steps:\n",
    "            clear_cache(step)\n",
    "    if hasattr(model, 'cache'):\n",
    "        model.cache = None\n",
    "    return model\n",
    "\n",
    "for name, model in results['models'].items():\n",
    "    clear_cache(model)\n",
    "    save_model(model)"
   ]
  },
  {
   "cell_type": "markdown",
   "metadata": {},
   "source": [
    "## Conclusion\n",
    "\n",
    "- `ComplementNB` performs much better than a simple MultinomialNB, because our class labels are mostly unbalanced.\n",
    "- `LatentDirichletAllocation` topics as features are not suitable for our classification problem, as features are often collinear. They often fare no better than the dummy classifier where we simply return the most frequent labels.\n",
    "- LSA (Latent Semantic Analysis, Tfidf + SVD) shows a much more promising outlook, especially when combined with Linear Discriminant Analysis or SVC.\n",
    "- Find the right vocabulary (min_df and ngram range) is crucial. Throw away noises early often outperforms running dimension reduction later.\n",
    "- Basically SVD makes each feature (component) more indendent with each other, making LDA and SVC easier to come up with good fittings.\n",
    "- Tree based models are not particularly useful. But the results may be different had we tuned the tree structure more.\n",
    "\n",
    "## Next Steps\n",
    "\n",
    "Required:\n",
    "\n",
    "- Tune hyperparamters for `ComplementNB`, `TruncatedSVD`, `LinearDiscriminantAnalysis` and `SVC`/`LinearSVC`. Try different kernel functions.\n",
    "- Try over-/under-sampling since most of our classes are imbalanced. [Possible solution](https://imbalanced-learn.org/)\n",
    "- Test some boosting methods, especially [xgboost](https://xgboost.readthedocs.io/en/latest/).\n",
    "- Test word embedding as features.\n",
    "\n",
    "Optional:\n",
    "\n",
    "- Possibly use different classifier for different labels.\n",
    "- Test two step predictions: first run binary prediction for \"mentioned\" vs \"not mentioned\", i.e., -2 vs (-1, 0, 1), then predict (-1, 0, 1).\n",
    "    - This could happen as either [ClassifierChain](https://scikit-learn.org/stable/modules/multiclass.html#classifierchain) or separate steps."
   ]
  },
  {
   "cell_type": "code",
   "execution_count": 25,
   "metadata": {
    "scrolled": true
   },
   "outputs": [
    {
     "name": "stderr",
     "output_type": "stream",
     "text": [
      "2018-12-03 11:52:24,510 [INFO]   lsa_500_en: transform use cache.\n"
     ]
    },
    {
     "name": "stdout",
     "output_type": "stream",
     "text": [
      "(1,)\n"
     ]
    },
    {
     "data": {
      "text/plain": [
       "(2000, 4)"
      ]
     },
     "execution_count": 25,
     "metadata": {},
     "output_type": "execute_result"
    }
   ],
   "source": [
    "model = results['models']['lsa_500_en_LDA']\n",
    "print(X_test[0:1].shape)\n",
    "probas = model.predict_proba(X_test[0:1])\n",
    "probas[0].shape"
   ]
  },
  {
   "cell_type": "code",
   "execution_count": 20,
   "metadata": {},
   "outputs": [
    {
     "name": "stderr",
     "output_type": "stream",
     "text": [
      "2018-12-03 11:28:47,421 [INFO]   lsa_500_en: transform use cache.\n"
     ]
    },
    {
     "data": {
      "text/plain": [
       "array([[-2, -2, -2, ..., -2,  1, -2],\n",
       "       [-2, -2, -2, ..., -2,  1, -2],\n",
       "       [-2, -2, -2, ..., -2,  1,  1],\n",
       "       ...,\n",
       "       [-2, -2, -1, ...,  1, -1, -1],\n",
       "       [-2, -2, -2, ..., -2,  0, -2],\n",
       "       [-2, -2, -2, ..., -2,  1, -2]])"
      ]
     },
     "execution_count": 20,
     "metadata": {},
     "output_type": "execute_result"
    }
   ],
   "source": [
    "model.predict(X_test[0:1])"
   ]
  },
  {
   "cell_type": "code",
   "execution_count": null,
   "metadata": {},
   "outputs": [],
   "source": []
  }
 ],
 "metadata": {
  "kernelspec": {
   "display_name": "Python 3",
   "language": "python",
   "name": "python3"
  },
  "language_info": {
   "codemirror_mode": {
    "name": "ipython",
    "version": 3
   },
   "file_extension": ".py",
   "mimetype": "text/x-python",
   "name": "python",
   "nbconvert_exporter": "python",
   "pygments_lexer": "ipython3",
   "version": "3.6.5"
  }
 },
 "nbformat": 4,
 "nbformat_minor": 2
}
