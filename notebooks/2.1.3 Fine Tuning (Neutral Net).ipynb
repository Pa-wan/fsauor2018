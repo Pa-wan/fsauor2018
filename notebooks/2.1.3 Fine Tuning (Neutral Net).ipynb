{
 "cells": [
  {
   "cell_type": "code",
   "execution_count": 1,
   "metadata": {},
   "outputs": [],
   "source": [
    "%load_ext autoreload\n",
    "%autoreload 2\n",
    "%matplotlib inline\n",
    "%config InlineBackend.figure_format = 'retina'\n",
    "\n",
    "import pandas as pd\n",
    "import numpy as np\n",
    "import matplotlib.pyplot as plt\n",
    "\n",
    "import logging\n",
    "\n",
    "logging.getLogger('jieba').setLevel(logging.WARN)\n",
    "logging.getLogger('fgclassifier').setLevel(logging.INFO)\n",
    "logging.getLogger('fgclassifier.features').setLevel(logging.INFO)"
   ]
  },
  {
   "cell_type": "code",
   "execution_count": 2,
   "metadata": {},
   "outputs": [],
   "source": [
    "import os\n",
    "\n",
    "os.chdir('..')"
   ]
  },
  {
   "cell_type": "code",
   "execution_count": 3,
   "metadata": {},
   "outputs": [
    {
     "name": "stderr",
     "output_type": "stream",
     "text": [
      "2018-12-04 16:11:18,295 [INFO] Reading /opt/storage/english_train.csv..\n"
     ]
    },
    {
     "data": {
      "text/plain": [
       "(8000,)"
      ]
     },
     "execution_count": 3,
     "metadata": {},
     "output_type": "execute_result"
    },
    {
     "name": "stderr",
     "output_type": "stream",
     "text": [
      "Process ForkPoolWorker-1:\n",
      "Process ForkPoolWorker-4:\n",
      "Process ForkPoolWorker-3:\n",
      "Process ForkPoolWorker-2:\n",
      "Traceback (most recent call last):\n",
      "Traceback (most recent call last):\n",
      "Traceback (most recent call last):\n",
      "  File \"/Users/jesse/anaconda3/envs/idp/lib/python3.6/multiprocessing/process.py\", line 258, in _bootstrap\n",
      "    self.run()\n",
      "  File \"/Users/jesse/anaconda3/envs/idp/lib/python3.6/multiprocessing/process.py\", line 258, in _bootstrap\n",
      "    self.run()\n",
      "  File \"/Users/jesse/anaconda3/envs/idp/lib/python3.6/multiprocessing/process.py\", line 258, in _bootstrap\n",
      "    self.run()\n",
      "  File \"/Users/jesse/anaconda3/envs/idp/lib/python3.6/multiprocessing/process.py\", line 93, in run\n",
      "    self._target(*self._args, **self._kwargs)\n",
      "Traceback (most recent call last):\n",
      "  File \"/Users/jesse/anaconda3/envs/idp/lib/python3.6/multiprocessing/synchronize.py\", line 96, in __enter__\n",
      "    return self._semlock.__enter__()\n",
      "  File \"/Users/jesse/anaconda3/envs/idp/lib/python3.6/multiprocessing/process.py\", line 93, in run\n",
      "    self._target(*self._args, **self._kwargs)\n",
      "  File \"/Users/jesse/anaconda3/envs/idp/lib/python3.6/multiprocessing/process.py\", line 93, in run\n",
      "    self._target(*self._args, **self._kwargs)\n",
      "  File \"/Users/jesse/anaconda3/envs/idp/lib/python3.6/multiprocessing/pool.py\", line 108, in worker\n",
      "    task = get()\n",
      "  File \"/Users/jesse/anaconda3/envs/idp/lib/python3.6/multiprocessing/process.py\", line 258, in _bootstrap\n",
      "    self.run()\n",
      "  File \"/Users/jesse/anaconda3/envs/idp/lib/python3.6/multiprocessing/queues.py\", line 334, in get\n",
      "    with self._rlock:\n",
      "  File \"/Users/jesse/anaconda3/envs/idp/lib/python3.6/multiprocessing/pool.py\", line 108, in worker\n",
      "    task = get()\n",
      "  File \"/Users/jesse/anaconda3/envs/idp/lib/python3.6/multiprocessing/pool.py\", line 108, in worker\n",
      "    task = get()\n",
      "  File \"/Users/jesse/anaconda3/envs/idp/lib/python3.6/multiprocessing/process.py\", line 93, in run\n",
      "    self._target(*self._args, **self._kwargs)\n",
      "  File \"/Users/jesse/anaconda3/envs/idp/lib/python3.6/multiprocessing/synchronize.py\", line 96, in __enter__\n",
      "    return self._semlock.__enter__()\n",
      "  File \"/Users/jesse/anaconda3/envs/idp/lib/python3.6/multiprocessing/queues.py\", line 334, in get\n",
      "    with self._rlock:\n",
      "  File \"/Users/jesse/anaconda3/envs/idp/lib/python3.6/multiprocessing/queues.py\", line 334, in get\n",
      "    with self._rlock:\n",
      "  File \"/Users/jesse/anaconda3/envs/idp/lib/python3.6/multiprocessing/pool.py\", line 108, in worker\n",
      "    task = get()\n",
      "KeyboardInterrupt\n",
      "  File \"/Users/jesse/anaconda3/envs/idp/lib/python3.6/multiprocessing/queues.py\", line 335, in get\n",
      "    res = self._reader.recv_bytes()\n",
      "  File \"/Users/jesse/anaconda3/envs/idp/lib/python3.6/multiprocessing/synchronize.py\", line 96, in __enter__\n",
      "    return self._semlock.__enter__()\n",
      "KeyboardInterrupt\n",
      "  File \"/Users/jesse/anaconda3/envs/idp/lib/python3.6/multiprocessing/connection.py\", line 216, in recv_bytes\n",
      "    buf = self._recv_bytes(maxlength)\n",
      "KeyboardInterrupt\n",
      "  File \"/Users/jesse/anaconda3/envs/idp/lib/python3.6/multiprocessing/connection.py\", line 407, in _recv_bytes\n",
      "    buf = self._recv(4)\n",
      "  File \"/Users/jesse/anaconda3/envs/idp/lib/python3.6/multiprocessing/connection.py\", line 379, in _recv\n",
      "    chunk = read(handle, remaining)\n",
      "KeyboardInterrupt\n"
     ]
    }
   ],
   "source": [
    "from fgclassifier.utils import read_data, get_dataset\n",
    "\n",
    "X_train, y_train = read_data(get_dataset('train_en'), flavor=None)\n",
    "X_train.shape"
   ]
  },
  {
   "cell_type": "markdown",
   "metadata": {},
   "source": [
    "Exam the usage of np.linspace/logspace"
   ]
  },
  {
   "cell_type": "code",
   "execution_count": 4,
   "metadata": {},
   "outputs": [
    {
     "name": "stdout",
     "output_type": "stream",
     "text": [
      "[ 100.  200.  300.  400.  500.  600.  700.  800.  900. 1000.]\n",
      "[1.e-04 1.e-03 1.e-02 1.e-01 1.e+00 1.e+01 1.e+02 1.e+03 1.e+04]\n",
      "[0.  0.1 0.2 0.3 0.4 0.5 0.6 0.7 0.8 0.9 1. ]\n"
     ]
    }
   ],
   "source": [
    "print(np.linspace(100, 1000, 10))\n",
    "print(np.logspace(-4, 4, 9))\n",
    "print(np.linspace(0, 1, 11))"
   ]
  },
  {
   "cell_type": "markdown",
   "metadata": {},
   "source": [
    "Build the features"
   ]
  },
  {
   "cell_type": "code",
   "execution_count": 5,
   "metadata": {},
   "outputs": [
    {
     "name": "stderr",
     "output_type": "stream",
     "text": [
      "2018-12-04 16:11:44,773 [INFO] 'pattern' package not found; tag filters are not available for English\n",
      "2018-12-04 16:12:52,391 [INFO] Fit & Transform TF-IDF...\n"
     ]
    }
   ],
   "source": [
    "from sklearn.pipeline import Pipeline\n",
    "from fgclassifier.features import Count, Tfidf\n",
    "\n",
    "pipeline = Pipeline([\n",
    "    ('vect', Count(min_df=0.02, max_df=0.99, ngram_range=(1, 6))),\n",
    "    ('tfidf', Tfidf()),\n",
    "], memory='data/pipeline_cache')\n",
    "\n",
    "Xt = pipeline.fit_transform(X_train)"
   ]
  },
  {
   "cell_type": "code",
   "execution_count": 6,
   "metadata": {},
   "outputs": [
    {
     "name": "stdout",
     "output_type": "stream",
     "text": [
      "Original data dimension:  2612\n"
     ]
    }
   ],
   "source": [
    "print('Original data dimension: ',\n",
    "      len(pipeline.named_steps.tfidf.idf_))"
   ]
  },
  {
   "cell_type": "markdown",
   "metadata": {},
   "source": [
    "## Optimize classifier "
   ]
  },
  {
   "cell_type": "markdown",
   "metadata": {},
   "source": [
    "Reference: https://scikit-learn.org/stable/modules/generated/sklearn.neural_network.MLPClassifier.html\n"
   ]
  },
  {
   "cell_type": "code",
   "execution_count": 12,
   "metadata": {
    "scrolled": false
   },
   "outputs": [],
   "source": [
    "from IPython.display import clear_output\n",
    "from sklearn.model_selection import GridSearchCV\n",
    "from sklearn.externals import joblib\n",
    "from sklearn.neural_network import MLPClassifier\n",
    "\n",
    "from fgclassifier.baseline import Baseline, MultiOutputClassifier\n",
    "\n",
    "max_dim = len(pipeline.named_steps.tfidf.idf_)\n",
    "clf = MultiOutputClassifier(MLPClassifier(\n",
    "    learning_rate='adaptive',\n",
    "    learning_rate_init=0.001,\n",
    "    early_stopping=True,\n",
    "    random_state=1\n",
    "))\n",
    "\n",
    "parameters = {\n",
    "    'estimator__hidden_layer_sizes': [\n",
    "        (100, ), (200, ), (300, ), (400, ), (500, ),\n",
    "        (600, ), (700, ), (800, ), (900, ), (1000, ),\n",
    "        (500, 100), (1000, 500),\n",
    "    ],\n",
    "    'estimator__activation': ['logistic', 'tanh', 'relu'],\n",
    "}\n",
    "\n",
    "with joblib.parallel_backend('threading', n_jobs=3):\n",
    "    searcher = GridSearchCV(\n",
    "        clf, parameters, cv=5,\n",
    "        verbose=True,\n",
    "        return_train_score=True\n",
    "    )\n",
    "    searcher.fit(Xt, y_train)\n",
    "    \n",
    "clear_output()"
   ]
  },
  {
   "cell_type": "code",
   "execution_count": null,
   "metadata": {},
   "outputs": [],
   "source": [
    "# Important training results\n",
    "searcher.best_estimator_\n",
    "searcher.cv_results_"
   ]
  },
  {
   "cell_type": "markdown",
   "metadata": {},
   "source": [
    "Plot the results"
   ]
  },
  {
   "cell_type": "code",
   "execution_count": 9,
   "metadata": {},
   "outputs": [],
   "source": [
    "import seaborn as sns\n",
    "\n",
    "params = ['estimator__hidden_layer_sizes', 'estimator__activation']\n",
    "\n",
    "def extract_results(searcher, param_names=params):\n",
    "    \"\"\"Process the results for display\"\"\"\n",
    "    results =  pd.melt(\n",
    "        pd.DataFrame(searcher.cv_results_),\n",
    "        id_vars=param_names,\n",
    "        value_vars=[\n",
    "            'mean_test_score',\n",
    "            'mean_train_score',\n",
    "        ],\n",
    "        value_name='accuracy'\n",
    "    )\n",
    "    results = results.drop(param_names, axis=1)\n",
    "    print(results)\n",
    "    results['train_or_test'] = np.where(results['variable'].str.contains('test'),\n",
    "                                        'test', 'train')\n",
    "    results['split'] = results['variable'].str.extract(r'(\\d)')\n",
    "    results['error'] = 1 - results['accuracy']\n",
    "    results = results.drop(['variable', 'accuracy'], axis=1)\n",
    "    return results\n",
    "\n",
    "# results = extract_results(searcher)\n",
    "# results.sample(3)"
   ]
  },
  {
   "cell_type": "code",
   "execution_count": null,
   "metadata": {},
   "outputs": [],
   "source": []
  },
  {
   "cell_type": "code",
   "execution_count": null,
   "metadata": {},
   "outputs": [],
   "source": []
  }
 ],
 "metadata": {
  "kernelspec": {
   "display_name": "Python 3",
   "language": "python",
   "name": "python3"
  },
  "language_info": {
   "codemirror_mode": {
    "name": "ipython",
    "version": 3
   },
   "file_extension": ".py",
   "mimetype": "text/x-python",
   "name": "python",
   "nbconvert_exporter": "python",
   "pygments_lexer": "ipython3",
   "version": "3.6.5"
  }
 },
 "nbformat": 4,
 "nbformat_minor": 2
}
