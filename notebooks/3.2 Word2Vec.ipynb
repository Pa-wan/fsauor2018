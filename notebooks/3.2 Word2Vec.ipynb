{
 "cells": [
  {
   "cell_type": "code",
   "execution_count": 1,
   "metadata": {},
   "outputs": [],
   "source": [
    "%load_ext autoreload\n",
    "%autoreload 2"
   ]
  },
  {
   "cell_type": "code",
   "execution_count": 2,
   "metadata": {},
   "outputs": [],
   "source": [
    "import os\n",
    "\n",
    "os.chdir('..')"
   ]
  },
  {
   "cell_type": "code",
   "execution_count": 3,
   "metadata": {},
   "outputs": [
    {
     "name": "stderr",
     "output_type": "stream",
     "text": [
      "2018-12-03 21:50:11,147 [INFO] Reading data/english_train.csv..\n",
      "2018-12-03 21:50:11,375 [INFO] Reading data/english_valid.csv..\n"
     ]
    }
   ],
   "source": [
    "from collections import defaultdict\n",
    "from sklearn.model_selection import train_test_split\n",
    "\n",
    "from fgclassifier.utils import read_data, get_dataset\n",
    "\n",
    "X_train, y_train = read_data(get_dataset('train_en'), flavor=None)\n",
    "X_test, y_test = read_data(get_dataset('valid_en'), flavor=None)"
   ]
  },
  {
   "cell_type": "code",
   "execution_count": null,
   "metadata": {},
   "outputs": [],
   "source": [
    "fm = defaultdict(dict)"
   ]
  },
  {
   "cell_type": "code",
   "execution_count": null,
   "metadata": {
    "scrolled": false
   },
   "outputs": [
    {
     "name": "stderr",
     "output_type": "stream",
     "text": [
      "C:\\Users\\jyyjc\\Anaconda3\\envs\\idp\\lib\\site-packages\\gensim\\utils.py:1212: UserWarning: detected Windows; aliasing chunkize to chunkize_serial\n",
      "  warnings.warn(\"detected Windows; aliasing chunkize to chunkize_serial\")\n",
      "2018-12-03 21:50:12,600 [INFO] 'pattern' package not found; tag filters are not available for English\n",
      "2018-12-03 21:50:12,627 [INFO] Building features for word2vec_en...\n",
      "2018-12-03 21:50:30,054 [INFO] collecting all words and their counts\n",
      "2018-12-03 21:50:30,056 [INFO] PROGRESS: at sentence #0, processed 0 words, keeping 0 word types\n",
      "2018-12-03 21:50:30,742 [INFO] collected 23515 word types from a corpus of 1877982 raw words and 8000 sentences\n",
      "2018-12-03 21:50:30,744 [INFO] Loading a fresh vocabulary\n",
      "2018-12-03 21:50:30,887 [INFO] effective_min_count=3 retains 10128 unique words (43% of original 23515, drops 13387)\n",
      "2018-12-03 21:50:30,890 [INFO] effective_min_count=3 leaves 1861693 word corpus (99% of original 1877982, drops 16289)\n",
      "2018-12-03 21:50:30,983 [INFO] deleting the raw counts dictionary of 23515 items\n",
      "2018-12-03 21:50:30,988 [INFO] sample=0.001 downsamples 45 most-common words\n",
      "2018-12-03 21:50:30,992 [INFO] downsampling leaves estimated 1291285 word corpus (69.4% of prior 1861693)\n",
      "2018-12-03 21:50:31,075 [INFO] estimated required memory for 10128 words and 400 dimensions: 37473600 bytes\n",
      "2018-12-03 21:50:31,078 [INFO] resetting layer weights\n",
      "2018-12-03 21:50:31,518 [INFO] training model with 3 workers on 10128 vocabulary and 400 features, using sg=0 hs=0 sample=0.001 negative=5 window=10\n",
      "2018-12-03 21:50:32,534 [INFO] EPOCH 1 - PROGRESS: at 22.95% examples, 293855 words/s, in_qsize 5, out_qsize 0\n",
      "2018-12-03 21:50:33,535 [INFO] EPOCH 1 - PROGRESS: at 50.45% examples, 322036 words/s, in_qsize 4, out_qsize 1\n",
      "2018-12-03 21:50:34,541 [INFO] EPOCH 1 - PROGRESS: at 83.83% examples, 356297 words/s, in_qsize 5, out_qsize 0\n",
      "2018-12-03 21:50:35,108 [INFO] worker thread finished; awaiting finish of 2 more threads\n",
      "2018-12-03 21:50:35,125 [INFO] worker thread finished; awaiting finish of 1 more threads\n",
      "2018-12-03 21:50:35,138 [INFO] worker thread finished; awaiting finish of 0 more threads\n",
      "2018-12-03 21:50:35,140 [INFO] EPOCH - 1 : training on 1877982 raw words (1291152 effective words) took 3.6s, 356980 effective words/s\n",
      "2018-12-03 21:50:36,167 [INFO] EPOCH 2 - PROGRESS: at 26.74% examples, 341479 words/s, in_qsize 6, out_qsize 0\n",
      "2018-12-03 21:50:37,180 [INFO] EPOCH 2 - PROGRESS: at 59.46% examples, 377755 words/s, in_qsize 5, out_qsize 0\n",
      "2018-12-03 21:50:38,183 [INFO] EPOCH 2 - PROGRESS: at 86.75% examples, 368880 words/s, in_qsize 5, out_qsize 0\n",
      "2018-12-03 21:50:38,703 [INFO] worker thread finished; awaiting finish of 2 more threads\n",
      "2018-12-03 21:50:38,716 [INFO] worker thread finished; awaiting finish of 1 more threads\n",
      "2018-12-03 21:50:38,737 [INFO] worker thread finished; awaiting finish of 0 more threads\n",
      "2018-12-03 21:50:38,739 [INFO] EPOCH - 2 : training on 1877982 raw words (1290715 effective words) took 3.6s, 360616 effective words/s\n",
      "2018-12-03 21:50:39,769 [INFO] EPOCH 3 - PROGRESS: at 26.74% examples, 336430 words/s, in_qsize 6, out_qsize 0\n",
      "2018-12-03 21:50:40,773 [INFO] EPOCH 3 - PROGRESS: at 50.50% examples, 319838 words/s, in_qsize 5, out_qsize 0\n",
      "2018-12-03 21:50:41,782 [INFO] EPOCH 3 - PROGRESS: at 77.59% examples, 327620 words/s, in_qsize 5, out_qsize 0\n",
      "2018-12-03 21:50:42,566 [INFO] worker thread finished; awaiting finish of 2 more threads\n",
      "2018-12-03 21:50:42,594 [INFO] worker thread finished; awaiting finish of 1 more threads\n",
      "2018-12-03 21:50:42,608 [INFO] worker thread finished; awaiting finish of 0 more threads\n",
      "2018-12-03 21:50:42,609 [INFO] EPOCH - 3 : training on 1877982 raw words (1291584 effective words) took 3.9s, 334291 effective words/s\n",
      "2018-12-03 21:50:43,632 [INFO] EPOCH 4 - PROGRESS: at 24.01% examples, 306131 words/s, in_qsize 6, out_qsize 0\n",
      "2018-12-03 21:50:44,681 [INFO] EPOCH 4 - PROGRESS: at 51.00% examples, 317528 words/s, in_qsize 5, out_qsize 0\n",
      "2018-12-03 21:50:45,693 [INFO] EPOCH 4 - PROGRESS: at 82.15% examples, 343140 words/s, in_qsize 5, out_qsize 0\n",
      "2018-12-03 21:50:46,342 [INFO] worker thread finished; awaiting finish of 2 more threads\n",
      "2018-12-03 21:50:46,369 [INFO] worker thread finished; awaiting finish of 1 more threads\n",
      "2018-12-03 21:50:46,380 [INFO] worker thread finished; awaiting finish of 0 more threads\n",
      "2018-12-03 21:50:46,382 [INFO] EPOCH - 4 : training on 1877982 raw words (1291682 effective words) took 3.8s, 343172 effective words/s\n",
      "2018-12-03 21:50:47,407 [INFO] EPOCH 5 - PROGRESS: at 24.01% examples, 304698 words/s, in_qsize 6, out_qsize 0\n",
      "2018-12-03 21:50:48,430 [INFO] EPOCH 5 - PROGRESS: at 40.49% examples, 254790 words/s, in_qsize 6, out_qsize 0\n",
      "2018-12-03 21:50:49,435 [INFO] EPOCH 5 - PROGRESS: at 56.80% examples, 239707 words/s, in_qsize 4, out_qsize 1\n",
      "2018-12-03 21:50:50,455 [INFO] EPOCH 5 - PROGRESS: at 77.09% examples, 242980 words/s, in_qsize 6, out_qsize 0\n",
      "2018-12-03 21:50:51,366 [INFO] worker thread finished; awaiting finish of 2 more threads\n",
      "2018-12-03 21:50:51,400 [INFO] worker thread finished; awaiting finish of 1 more threads\n",
      "2018-12-03 21:50:51,410 [INFO] worker thread finished; awaiting finish of 0 more threads\n",
      "2018-12-03 21:50:51,415 [INFO] EPOCH - 5 : training on 1877982 raw words (1291534 effective words) took 5.0s, 257015 effective words/s\n",
      "2018-12-03 21:50:52,432 [INFO] EPOCH 6 - PROGRESS: at 18.26% examples, 235025 words/s, in_qsize 5, out_qsize 0\n",
      "2018-12-03 21:50:53,483 [INFO] EPOCH 6 - PROGRESS: at 47.84% examples, 299196 words/s, in_qsize 5, out_qsize 0\n",
      "2018-12-03 21:50:54,493 [INFO] EPOCH 6 - PROGRESS: at 75.06% examples, 313415 words/s, in_qsize 5, out_qsize 0\n",
      "2018-12-03 21:50:55,119 [INFO] worker thread finished; awaiting finish of 2 more threads\n",
      "2018-12-03 21:50:55,143 [INFO] worker thread finished; awaiting finish of 1 more threads\n",
      "2018-12-03 21:50:55,149 [INFO] worker thread finished; awaiting finish of 0 more threads\n",
      "2018-12-03 21:50:55,150 [INFO] EPOCH - 6 : training on 1877982 raw words (1291459 effective words) took 3.7s, 346864 effective words/s\n",
      "2018-12-03 21:50:56,159 [INFO] EPOCH 7 - PROGRESS: at 35.79% examples, 457738 words/s, in_qsize 5, out_qsize 0\n",
      "2018-12-03 21:50:57,160 [INFO] EPOCH 7 - PROGRESS: at 71.65% examples, 459066 words/s, in_qsize 5, out_qsize 0\n",
      "2018-12-03 21:50:57,930 [INFO] worker thread finished; awaiting finish of 2 more threads\n",
      "2018-12-03 21:50:57,941 [INFO] worker thread finished; awaiting finish of 1 more threads\n",
      "2018-12-03 21:50:57,945 [INFO] worker thread finished; awaiting finish of 0 more threads\n",
      "2018-12-03 21:50:57,947 [INFO] EPOCH - 7 : training on 1877982 raw words (1291298 effective words) took 2.8s, 462719 effective words/s\n",
      "2018-12-03 21:50:58,979 [INFO] EPOCH 8 - PROGRESS: at 35.79% examples, 447519 words/s, in_qsize 5, out_qsize 0\n",
      "2018-12-03 21:50:59,999 [INFO] EPOCH 8 - PROGRESS: at 71.65% examples, 449579 words/s, in_qsize 5, out_qsize 0\n",
      "2018-12-03 21:51:00,789 [INFO] worker thread finished; awaiting finish of 2 more threads\n",
      "2018-12-03 21:51:00,810 [INFO] worker thread finished; awaiting finish of 1 more threads\n",
      "2018-12-03 21:51:00,816 [INFO] worker thread finished; awaiting finish of 0 more threads\n",
      "2018-12-03 21:51:00,818 [INFO] EPOCH - 8 : training on 1877982 raw words (1291833 effective words) took 2.9s, 450850 effective words/s\n",
      "2018-12-03 21:51:01,831 [INFO] EPOCH 9 - PROGRESS: at 33.14% examples, 423235 words/s, in_qsize 5, out_qsize 0\n",
      "2018-12-03 21:51:02,854 [INFO] EPOCH 9 - PROGRESS: at 62.05% examples, 393204 words/s, in_qsize 6, out_qsize 0\n",
      "2018-12-03 21:51:03,874 [INFO] EPOCH 9 - PROGRESS: at 89.95% examples, 379465 words/s, in_qsize 5, out_qsize 0\n",
      "2018-12-03 21:51:04,346 [INFO] worker thread finished; awaiting finish of 2 more threads\n",
      "2018-12-03 21:51:04,367 [INFO] worker thread finished; awaiting finish of 1 more threads\n",
      "2018-12-03 21:51:04,369 [INFO] worker thread finished; awaiting finish of 0 more threads\n",
      "2018-12-03 21:51:04,371 [INFO] EPOCH - 9 : training on 1877982 raw words (1291347 effective words) took 3.5s, 364341 effective words/s\n",
      "2018-12-03 21:51:05,392 [INFO] EPOCH 10 - PROGRESS: at 30.52% examples, 384904 words/s, in_qsize 5, out_qsize 0\n",
      "2018-12-03 21:51:06,440 [INFO] EPOCH 10 - PROGRESS: at 57.30% examples, 356733 words/s, in_qsize 6, out_qsize 0\n"
     ]
    },
    {
     "name": "stderr",
     "output_type": "stream",
     "text": [
      "2018-12-03 21:51:07,443 [INFO] EPOCH 10 - PROGRESS: at 82.66% examples, 346100 words/s, in_qsize 6, out_qsize 0\n",
      "2018-12-03 21:51:07,966 [INFO] worker thread finished; awaiting finish of 2 more threads\n",
      "2018-12-03 21:51:07,979 [INFO] worker thread finished; awaiting finish of 1 more threads\n",
      "2018-12-03 21:51:07,981 [INFO] worker thread finished; awaiting finish of 0 more threads\n",
      "2018-12-03 21:51:07,983 [INFO] EPOCH - 10 : training on 1877982 raw words (1291265 effective words) took 3.6s, 357866 effective words/s\n",
      "2018-12-03 21:51:07,986 [INFO] training on a 18779820 raw words (12913869 effective words) took 36.5s, 354134 effective words/s\n"
     ]
    }
   ],
   "source": [
    "from fgclassifier.features import FeaturePipeline, logger\n",
    "\n",
    "for name in ['word2vec_en', 'word2vec_en_minmax']:\n",
    "    logger.info(f'Building features for {name}...')\n",
    "    model = FeaturePipeline.from_spec(name, cache=fm)\n",
    "    model.fit_transform(X_train)\n",
    "    model.transform(X_test)"
   ]
  },
  {
   "cell_type": "code",
   "execution_count": null,
   "metadata": {
    "scrolled": false
   },
   "outputs": [],
   "source": [
    "scores_train, avg_score_train = defaultdict(dict), defaultdict(dict)\n",
    "scores_test, avg_score_test = defaultdict(dict), defaultdict(dict)"
   ]
  },
  {
   "cell_type": "code",
   "execution_count": null,
   "metadata": {},
   "outputs": [],
   "source": [
    "from fgclassifier.train import fm_cross_check\n",
    "from IPython.display import clear_output"
   ]
  },
  {
   "cell_type": "code",
   "execution_count": null,
   "metadata": {
    "scrolled": false
   },
   "outputs": [],
   "source": [
    "conf = {\n",
    "    'fm_cache': fm,\n",
    "    'X_train': X_train,\n",
    "    'X_test': X_test,\n",
    "    'y_train': y_train,\n",
    "    'y_test': y_test,\n",
    "    'results': {\n",
    "        'models': {},\n",
    "        'avg': avg_score_test,\n",
    "        'all': scores_test,\n",
    "        'avg_train': avg_score_train,\n",
    "        'all_train': scores_train,\n",
    "    }\n",
    "}\n",
    "\n",
    "# All other models can run on many classifiers\n",
    "results = fm_cross_check(\n",
    "    ['word2vec_en_minmax'],\n",
    "    ['ComplementNB', 'QDA', 'RBF', 'SVM_Poly2', 'SVM_Poly3', 'LDA',\n",
    "     'LinearSVC', 'Ridge', 'Logistic'], **conf)\n",
    "\n",
    "clear_output()"
   ]
  },
  {
   "cell_type": "code",
   "execution_count": null,
   "metadata": {},
   "outputs": [],
   "source": [
    "rows = {}\n",
    "for fm_name in all_scores:\n",
    "    for clf_name in all_scores[fm_name]:\n",
    "        key = f'{fm_name}.{clf_name}'\n",
    "        rows[key] = [all_avg_scores[fm_name][clf_name],\n",
    "                     *all_scores[fm_name][clf_name]]\n",
    "df = pd.DataFrame(rows)\n",
    "df.index = ['average', *y_train.columns]\n",
    "df = df.T.sort_values('average', ascending=False)\n",
    "df"
   ]
  },
  {
   "cell_type": "code",
   "execution_count": 10,
   "metadata": {},
   "outputs": [
    {
     "name": "stdout",
     "output_type": "stream",
     "text": [
      "0.40654159090857\n"
     ]
    }
   ],
   "source": [
    "import numpy as np\n",
    "\n",
    "print(np.mean(scores))"
   ]
  },
  {
   "cell_type": "code",
   "execution_count": null,
   "metadata": {},
   "outputs": [],
   "source": []
  },
  {
   "cell_type": "code",
   "execution_count": null,
   "metadata": {},
   "outputs": [],
   "source": []
  }
 ],
 "metadata": {
  "kernelspec": {
   "display_name": "Python 3",
   "language": "python",
   "name": "python3"
  },
  "language_info": {
   "codemirror_mode": {
    "name": "ipython",
    "version": 3
   },
   "file_extension": ".py",
   "mimetype": "text/x-python",
   "name": "python",
   "nbconvert_exporter": "python",
   "pygments_lexer": "ipython3",
   "version": "3.6.5"
  }
 },
 "nbformat": 4,
 "nbformat_minor": 2
}
