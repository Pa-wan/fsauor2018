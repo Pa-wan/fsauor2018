{
 "cells": [
  {
   "cell_type": "code",
   "execution_count": 5,
   "metadata": {},
   "outputs": [
    {
     "name": "stderr",
     "output_type": "stream",
     "text": [
      "C:\\anaconda\\envs\\tensorflow\\lib\\site-packages\\gensim\\utils.py:860: UserWarning: detected Windows; aliasing chunkize to chunkize_serial\n",
      "  warnings.warn(\"detected Windows; aliasing chunkize to chunkize_serial\")\n"
     ]
    }
   ],
   "source": [
    "import pandas as pd\n",
    "import numpy as np\n",
    "from gensim.models import Word2Vec\n",
    "from gensim.models.word2vec import PathLineSentences"
   ]
  },
  {
   "cell_type": "code",
   "execution_count": 6,
   "metadata": {
    "collapsed": true
   },
   "outputs": [],
   "source": [
    "import jieba\n",
    "import re\n",
    "import os"
   ]
  },
  {
   "cell_type": "code",
   "execution_count": 7,
   "metadata": {
    "collapsed": true
   },
   "outputs": [],
   "source": [
    "data = pd.read_csv(\"sentiment_analysis_trainingset.csv\", encoding=\"utf-8\") "
   ]
  },
  {
   "cell_type": "code",
   "execution_count": 8,
   "metadata": {
    "collapsed": true
   },
   "outputs": [],
   "source": [
    "text = data['content']"
   ]
  },
  {
   "cell_type": "code",
   "execution_count": 9,
   "metadata": {
    "collapsed": true
   },
   "outputs": [],
   "source": [
    "def seg_words_write(contents):\n",
    "    contents_segs = []\n",
    "    stopwords = getStopwords()\n",
    "    f = open('contents.txt','wb')\n",
    "    for content in contents:\n",
    "        c = re.sub(' ', '', content)\n",
    "        segs = list(jieba.lcut(c))\n",
    "        sentence_segment = []\n",
    "        for word in segs:\n",
    "            if word not in stopwords:\n",
    "                sentence_segment.append(word)\n",
    "        contents_segs.append(\" \".join(sentence_segment))\n",
    "        f.write(\" \".join(sentence_segment).encode('utf-8'))\n",
    "    f.close\n",
    "    return contents_segs"
   ]
  },
  {
   "cell_type": "code",
   "execution_count": 10,
   "metadata": {
    "collapsed": true
   },
   "outputs": [],
   "source": [
    "def seg_words(contents):\n",
    "    contents_segs = []\n",
    "    stopwords = getStopwords()\n",
    "    for content in contents:\n",
    "        c = re.sub(' ', '', content)\n",
    "        segs = list(jieba.lcut(c))\n",
    "        sentence_segment = []\n",
    "        for word in segs:\n",
    "            if word not in stopwords:\n",
    "                sentence_segment.append(word)\n",
    "        contents_segs.append(\" \".join(sentence_segment))\n",
    "    return contents_segs"
   ]
  },
  {
   "cell_type": "code",
   "execution_count": 11,
   "metadata": {
    "collapsed": true
   },
   "outputs": [],
   "source": [
    "def getStopwords():\n",
    "    stopwords = []\n",
    "    with open(\"chineseStopWords.txt\", \"r\") as f:\n",
    "        lines = f.readlines()\n",
    "        for line in lines:\n",
    "            stopwords.append(line.strip())\n",
    "    stopwords.append('\"')\n",
    "    stopwords.append('\\n')\n",
    "    stopwords.append('～')\n",
    "    return stopwords"
   ]
  },
  {
   "cell_type": "code",
   "execution_count": 12,
   "metadata": {
    "collapsed": true
   },
   "outputs": [],
   "source": [
    "def sentence_vectorize(size,contents,model):\n",
    "    contents_vector = np.zeros((len(contents),size))\n",
    "    for i in range(len(contents)):\n",
    "        segs = contents[i].split()\n",
    "        vector_sum = np.zeros(size)\n",
    "        for j in range(len(segs)):\n",
    "            try:\n",
    "                vector_sum = vector_sum + model[segs[j]]\n",
    "            except KeyError:\n",
    "                pass\n",
    "        contents_vector[i] = vector_sum\n",
    "    return contents_vector"
   ]
  },
  {
   "cell_type": "code",
   "execution_count": 13,
   "metadata": {
    "collapsed": true
   },
   "outputs": [],
   "source": [
    "def word2vec(contents, seg_contents_exist = False, size = 256, min_count=5, iter=10):\n",
    "    if(seg_contents_exist == False):\n",
    "        if os.path.exists(\"content.txt\"):\n",
    "            os.remove(\"content.txt\")\n",
    "        else:\n",
    "            pass\n",
    "        contents_segs = seg_words_write(contents)\n",
    "    else:\n",
    "        contents_segs = seg_words(contents)\n",
    "    model = Word2Vec(PathLineSentences(\"contents.txt\"),size=size, window=10, min_count=min_count, iter=iter)\n",
    "    X = sentence_vectorize(size,contents_segs,model)\n",
    "    return X"
   ]
  },
  {
   "cell_type": "code",
   "execution_count": null,
   "metadata": {},
   "outputs": [],
   "source": [
    "contents_segs = seg_words(text)"
   ]
  },
  {
   "cell_type": "code",
   "execution_count": null,
   "metadata": {
    "collapsed": true
   },
   "outputs": [],
   "source": [
    "model = Word2Vec(PathLineSentences(\"contents.txt\"),size=1000, window=10, min_count=5, iter=10)"
   ]
  },
  {
   "cell_type": "code",
   "execution_count": 12,
   "metadata": {
    "collapsed": true
   },
   "outputs": [],
   "source": [
    "X = sentence_vectorize(1000,contents_segs,model)"
   ]
  },
  {
   "cell_type": "code",
   "execution_count": 33,
   "metadata": {},
   "outputs": [
    {
     "data": {
      "text/plain": [
       "<gensim.models.word2vec.Word2Vec at 0x25c4fa9d198>"
      ]
     },
     "execution_count": 33,
     "metadata": {},
     "output_type": "execute_result"
    }
   ],
   "source": [
    "Word2Vec()"
   ]
  },
  {
   "cell_type": "code",
   "execution_count": 51,
   "metadata": {},
   "outputs": [],
   "source": [
    "class Word_to_Vec():\n",
    "    def __init__(self,embedder = Word2Vec(),size = 0,contents_segs = []):\n",
    "        self.embedder = embedder\n",
    "        self.size = size\n",
    "    \n",
    "    def fit(self, X, seg_contents_exist = False, size = 256, min_count=5, iter=10):\n",
    "        self.size = 256\n",
    "        if(seg_contents_exist == False):\n",
    "            if os.path.exists(\"content.txt\"):\n",
    "                os.remove(\"content.txt\")\n",
    "            else:\n",
    "                pass\n",
    "            contents_segs = seg_words_write(X)\n",
    "        else:\n",
    "            contents_segs = seg_words(X)\n",
    "        self.embedder = Word2Vec(PathLineSentences(\"contents.txt\"),size=size, window=10, min_count=min_count, iter=iter)\n",
    "    \n",
    "    def transform(self, X):\n",
    "        contents_segs = seg_words(X)\n",
    "        return sentence_vectorize(self.size,contents_segs,self.embedder)\n",
    "    \n",
    "    def fit_transform(self, X, seg_contents_exist = False, size = 256, min_count=5, iter=10):\n",
    "        size = 256\n",
    "        if(seg_contents_exist == False):\n",
    "            if os.path.exists(\"content.txt\"):\n",
    "                os.remove(\"content.txt\")\n",
    "            else:\n",
    "                pass\n",
    "            contents_segs = seg_words_write(X)\n",
    "        else:\n",
    "            contents_segs = seg_words(X)\n",
    "        self.embedder = Word2Vec(PathLineSentences(\"contents.txt\"),size=size, window=10, min_count=min_count, iter=iter)\n",
    "        return sentence_vectorize(self.size,contents_segs,self.embedder)"
   ]
  }
 ],
 "metadata": {
  "kernelspec": {
   "display_name": "Python 3",
   "language": "python",
   "name": "python3"
  },
  "language_info": {
   "codemirror_mode": {
    "name": "ipython",
    "version": 3
   },
   "file_extension": ".py",
   "mimetype": "text/x-python",
   "name": "python",
   "nbconvert_exporter": "python",
   "pygments_lexer": "ipython3",
   "version": "3.5.4"
  }
 },
 "nbformat": 4,
 "nbformat_minor": 2
}
