{
 "cells": [
  {
   "cell_type": "code",
   "execution_count": 22,
   "metadata": {},
   "outputs": [
    {
     "name": "stdout",
     "output_type": "stream",
     "text": [
      "The autoreload extension is already loaded. To reload it, use:\n",
      "  %reload_ext autoreload\n"
     ]
    }
   ],
   "source": [
    "%load_ext autoreload\n",
    "%autoreload 2\n",
    "\n",
    "import pandas as pd\n",
    "import numpy as np\n",
    "import matplotlib.pyplot as plt\n",
    "\n",
    "import logging\n",
    "\n",
    "logging.getLogger('jieba').setLevel(logging.WARN)\n",
    "logging.getLogger('fgclassifier').setLevel(logging.INFO)"
   ]
  },
  {
   "cell_type": "code",
   "execution_count": null,
   "metadata": {
    "scrolled": true
   },
   "outputs": [
    {
     "name": "stderr",
     "output_type": "stream",
     "text": [
      "2018-11-11 22:13:02,514 [INFO] Reading data/english.csv..\n",
      "2018-11-11 22:13:02,712 [INFO] Transform features...\n",
      "2018-11-11 22:13:02,713 [INFO] Fitting feature vectorizer...\n",
      "2018-11-11 22:13:15,576 [INFO] Fitted training features, vocabulary: 5022\n"
     ]
    }
   ],
   "source": [
    "import config\n",
    "from sklearn.feature_extraction.text import TfidfVectorizer\n",
    "from fgclassifier.baseline import Indie\n",
    "from fgclassifier import classifiers\n",
    "\n",
    "vectorizer = TfidfVectorizer(analyzer='word', ngram_range=(1, 3), min_df=0.01, max_df=0.95, norm='l2')\n",
    "model = Indie(vectorizer=vectorizer)\n",
    "df = model.read('data/english.csv', seg_words=False, sample_n=None)\n",
    "\n",
    "X_train, Y_train = model.split_xy(df[:8000])\n",
    "X_validate, Y_validate = model.split_xy(df[8000:])"
   ]
  },
  {
   "cell_type": "code",
   "execution_count": null,
   "metadata": {},
   "outputs": [],
   "source": [
    "from collections import Counter\n",
    "\n",
    "print('\\n'.join(['%s \\t %s' % (k, v) for k, v in\n",
    "                 Counter(model.vectorizer.vocabulary_).most_common()[:100]]))"
   ]
  },
  {
   "cell_type": "code",
   "execution_count": null,
   "metadata": {},
   "outputs": [],
   "source": [
    "all_avg_scores, all_scores = {}, {}\n",
    "for cls in ['LinearDiscriminantAnalysis']:\n",
    "    if cls.startswith('_'):\n",
    "        continue\n",
    "    Classifier = getattr(classifiers, cls) \n",
    "    model = Indie(classifier=Classifier,\n",
    "                  vectorizer=model.vectorizer,\n",
    "                  reducer=model.reducer)\n",
    "    model.train(X_train, Y_train)\n",
    "    avg_score, scores = model.validate(X_validate, Y_validate)\n",
    "    all_avg_scores[cls] = avg_score\n",
    "    all_scores[cls] = scores"
   ]
  },
  {
   "cell_type": "code",
   "execution_count": null,
   "metadata": {},
   "outputs": [],
   "source": []
  }
 ],
 "metadata": {
  "kernelspec": {
   "display_name": "Python 3",
   "language": "python",
   "name": "python3"
  },
  "language_info": {
   "codemirror_mode": {
    "name": "ipython",
    "version": 3
   },
   "file_extension": ".py",
   "mimetype": "text/x-python",
   "name": "python",
   "nbconvert_exporter": "python",
   "pygments_lexer": "ipython3",
   "version": "3.6.3"
  }
 },
 "nbformat": 4,
 "nbformat_minor": 2
}
